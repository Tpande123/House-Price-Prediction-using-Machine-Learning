{
 "cells": [
  {
   "cell_type": "markdown",
   "id": "fb6bb9a8",
   "metadata": {},
   "source": [
    "# Importing the Dependencies"
   ]
  },
  {
   "cell_type": "code",
   "execution_count": 1,
   "id": "8ccf9054",
   "metadata": {},
   "outputs": [
    {
     "name": "stdout",
     "output_type": "stream",
     "text": [
      "Requirement already satisfied: xgboost in d:\\anaconda\\lib\\site-packages (1.6.2)\n",
      "Requirement already satisfied: scipy in d:\\anaconda\\lib\\site-packages (from xgboost) (1.7.1)\n",
      "Requirement already satisfied: numpy in d:\\anaconda\\lib\\site-packages (from xgboost) (1.20.3)\n"
     ]
    }
   ],
   "source": [
    "!pip install xgboost"
   ]
  },
  {
   "cell_type": "code",
   "execution_count": 2,
   "id": "371659fb",
   "metadata": {},
   "outputs": [],
   "source": [
    "import numpy as np\n",
    "import sklearn\n",
    "import pandas as pd\n",
    "import matplotlib.pyplot as plt\n",
    "import seaborn as sns\n",
    "from sklearn import datasets\n",
    "from sklearn.model_selection import train_test_split\n",
    "from xgboost import XGBRegressor\n",
    "from sklearn import metrics\n",
    "from sklearn.linear_model import LinearRegression\n",
    "from sklearn.preprocessing import PolynomialFeatures\n",
    "from sklearn.svm import SVR\n",
    "from sklearn.tree import DecisionTreeRegressor\n",
    "from sklearn.ensemble import RandomForestRegressor\n",
    "from sklearn.preprocessing import StandardScaler"
   ]
  },
  {
   "cell_type": "markdown",
   "id": "9b534da2",
   "metadata": {},
   "source": [
    "# Importing the Boston House Price Dataset"
   ]
  },
  {
   "cell_type": "code",
   "execution_count": 3,
   "id": "7aa37d77",
   "metadata": {},
   "outputs": [],
   "source": [
    "house_price_dataset = sklearn.datasets.load_boston()"
   ]
  },
  {
   "cell_type": "code",
   "execution_count": 4,
   "id": "0e276298",
   "metadata": {},
   "outputs": [
    {
     "name": "stdout",
     "output_type": "stream",
     "text": [
      "{'data': array([[6.3200e-03, 1.8000e+01, 2.3100e+00, ..., 1.5300e+01, 3.9690e+02,\n",
      "        4.9800e+00],\n",
      "       [2.7310e-02, 0.0000e+00, 7.0700e+00, ..., 1.7800e+01, 3.9690e+02,\n",
      "        9.1400e+00],\n",
      "       [2.7290e-02, 0.0000e+00, 7.0700e+00, ..., 1.7800e+01, 3.9283e+02,\n",
      "        4.0300e+00],\n",
      "       ...,\n",
      "       [6.0760e-02, 0.0000e+00, 1.1930e+01, ..., 2.1000e+01, 3.9690e+02,\n",
      "        5.6400e+00],\n",
      "       [1.0959e-01, 0.0000e+00, 1.1930e+01, ..., 2.1000e+01, 3.9345e+02,\n",
      "        6.4800e+00],\n",
      "       [4.7410e-02, 0.0000e+00, 1.1930e+01, ..., 2.1000e+01, 3.9690e+02,\n",
      "        7.8800e+00]]), 'target': array([24. , 21.6, 34.7, 33.4, 36.2, 28.7, 22.9, 27.1, 16.5, 18.9, 15. ,\n",
      "       18.9, 21.7, 20.4, 18.2, 19.9, 23.1, 17.5, 20.2, 18.2, 13.6, 19.6,\n",
      "       15.2, 14.5, 15.6, 13.9, 16.6, 14.8, 18.4, 21. , 12.7, 14.5, 13.2,\n",
      "       13.1, 13.5, 18.9, 20. , 21. , 24.7, 30.8, 34.9, 26.6, 25.3, 24.7,\n",
      "       21.2, 19.3, 20. , 16.6, 14.4, 19.4, 19.7, 20.5, 25. , 23.4, 18.9,\n",
      "       35.4, 24.7, 31.6, 23.3, 19.6, 18.7, 16. , 22.2, 25. , 33. , 23.5,\n",
      "       19.4, 22. , 17.4, 20.9, 24.2, 21.7, 22.8, 23.4, 24.1, 21.4, 20. ,\n",
      "       20.8, 21.2, 20.3, 28. , 23.9, 24.8, 22.9, 23.9, 26.6, 22.5, 22.2,\n",
      "       23.6, 28.7, 22.6, 22. , 22.9, 25. , 20.6, 28.4, 21.4, 38.7, 43.8,\n",
      "       33.2, 27.5, 26.5, 18.6, 19.3, 20.1, 19.5, 19.5, 20.4, 19.8, 19.4,\n",
      "       21.7, 22.8, 18.8, 18.7, 18.5, 18.3, 21.2, 19.2, 20.4, 19.3, 22. ,\n",
      "       20.3, 20.5, 17.3, 18.8, 21.4, 15.7, 16.2, 18. , 14.3, 19.2, 19.6,\n",
      "       23. , 18.4, 15.6, 18.1, 17.4, 17.1, 13.3, 17.8, 14. , 14.4, 13.4,\n",
      "       15.6, 11.8, 13.8, 15.6, 14.6, 17.8, 15.4, 21.5, 19.6, 15.3, 19.4,\n",
      "       17. , 15.6, 13.1, 41.3, 24.3, 23.3, 27. , 50. , 50. , 50. , 22.7,\n",
      "       25. , 50. , 23.8, 23.8, 22.3, 17.4, 19.1, 23.1, 23.6, 22.6, 29.4,\n",
      "       23.2, 24.6, 29.9, 37.2, 39.8, 36.2, 37.9, 32.5, 26.4, 29.6, 50. ,\n",
      "       32. , 29.8, 34.9, 37. , 30.5, 36.4, 31.1, 29.1, 50. , 33.3, 30.3,\n",
      "       34.6, 34.9, 32.9, 24.1, 42.3, 48.5, 50. , 22.6, 24.4, 22.5, 24.4,\n",
      "       20. , 21.7, 19.3, 22.4, 28.1, 23.7, 25. , 23.3, 28.7, 21.5, 23. ,\n",
      "       26.7, 21.7, 27.5, 30.1, 44.8, 50. , 37.6, 31.6, 46.7, 31.5, 24.3,\n",
      "       31.7, 41.7, 48.3, 29. , 24. , 25.1, 31.5, 23.7, 23.3, 22. , 20.1,\n",
      "       22.2, 23.7, 17.6, 18.5, 24.3, 20.5, 24.5, 26.2, 24.4, 24.8, 29.6,\n",
      "       42.8, 21.9, 20.9, 44. , 50. , 36. , 30.1, 33.8, 43.1, 48.8, 31. ,\n",
      "       36.5, 22.8, 30.7, 50. , 43.5, 20.7, 21.1, 25.2, 24.4, 35.2, 32.4,\n",
      "       32. , 33.2, 33.1, 29.1, 35.1, 45.4, 35.4, 46. , 50. , 32.2, 22. ,\n",
      "       20.1, 23.2, 22.3, 24.8, 28.5, 37.3, 27.9, 23.9, 21.7, 28.6, 27.1,\n",
      "       20.3, 22.5, 29. , 24.8, 22. , 26.4, 33.1, 36.1, 28.4, 33.4, 28.2,\n",
      "       22.8, 20.3, 16.1, 22.1, 19.4, 21.6, 23.8, 16.2, 17.8, 19.8, 23.1,\n",
      "       21. , 23.8, 23.1, 20.4, 18.5, 25. , 24.6, 23. , 22.2, 19.3, 22.6,\n",
      "       19.8, 17.1, 19.4, 22.2, 20.7, 21.1, 19.5, 18.5, 20.6, 19. , 18.7,\n",
      "       32.7, 16.5, 23.9, 31.2, 17.5, 17.2, 23.1, 24.5, 26.6, 22.9, 24.1,\n",
      "       18.6, 30.1, 18.2, 20.6, 17.8, 21.7, 22.7, 22.6, 25. , 19.9, 20.8,\n",
      "       16.8, 21.9, 27.5, 21.9, 23.1, 50. , 50. , 50. , 50. , 50. , 13.8,\n",
      "       13.8, 15. , 13.9, 13.3, 13.1, 10.2, 10.4, 10.9, 11.3, 12.3,  8.8,\n",
      "        7.2, 10.5,  7.4, 10.2, 11.5, 15.1, 23.2,  9.7, 13.8, 12.7, 13.1,\n",
      "       12.5,  8.5,  5. ,  6.3,  5.6,  7.2, 12.1,  8.3,  8.5,  5. , 11.9,\n",
      "       27.9, 17.2, 27.5, 15. , 17.2, 17.9, 16.3,  7. ,  7.2,  7.5, 10.4,\n",
      "        8.8,  8.4, 16.7, 14.2, 20.8, 13.4, 11.7,  8.3, 10.2, 10.9, 11. ,\n",
      "        9.5, 14.5, 14.1, 16.1, 14.3, 11.7, 13.4,  9.6,  8.7,  8.4, 12.8,\n",
      "       10.5, 17.1, 18.4, 15.4, 10.8, 11.8, 14.9, 12.6, 14.1, 13. , 13.4,\n",
      "       15.2, 16.1, 17.8, 14.9, 14.1, 12.7, 13.5, 14.9, 20. , 16.4, 17.7,\n",
      "       19.5, 20.2, 21.4, 19.9, 19. , 19.1, 19.1, 20.1, 19.9, 19.6, 23.2,\n",
      "       29.8, 13.8, 13.3, 16.7, 12. , 14.6, 21.4, 23. , 23.7, 25. , 21.8,\n",
      "       20.6, 21.2, 19.1, 20.6, 15.2,  7. ,  8.1, 13.6, 20.1, 21.8, 24.5,\n",
      "       23.1, 19.7, 18.3, 21.2, 17.5, 16.8, 22.4, 20.6, 23.9, 22. , 11.9]), 'feature_names': array(['CRIM', 'ZN', 'INDUS', 'CHAS', 'NOX', 'RM', 'AGE', 'DIS', 'RAD',\n",
      "       'TAX', 'PTRATIO', 'B', 'LSTAT'], dtype='<U7'), 'DESCR': \".. _boston_dataset:\\n\\nBoston house prices dataset\\n---------------------------\\n\\n**Data Set Characteristics:**  \\n\\n    :Number of Instances: 506 \\n\\n    :Number of Attributes: 13 numeric/categorical predictive. Median Value (attribute 14) is usually the target.\\n\\n    :Attribute Information (in order):\\n        - CRIM     per capita crime rate by town\\n        - ZN       proportion of residential land zoned for lots over 25,000 sq.ft.\\n        - INDUS    proportion of non-retail business acres per town\\n        - CHAS     Charles River dummy variable (= 1 if tract bounds river; 0 otherwise)\\n        - NOX      nitric oxides concentration (parts per 10 million)\\n        - RM       average number of rooms per dwelling\\n        - AGE      proportion of owner-occupied units built prior to 1940\\n        - DIS      weighted distances to five Boston employment centres\\n        - RAD      index of accessibility to radial highways\\n        - TAX      full-value property-tax rate per $10,000\\n        - PTRATIO  pupil-teacher ratio by town\\n        - B        1000(Bk - 0.63)^2 where Bk is the proportion of black people by town\\n        - LSTAT    % lower status of the population\\n        - MEDV     Median value of owner-occupied homes in $1000's\\n\\n    :Missing Attribute Values: None\\n\\n    :Creator: Harrison, D. and Rubinfeld, D.L.\\n\\nThis is a copy of UCI ML housing dataset.\\nhttps://archive.ics.uci.edu/ml/machine-learning-databases/housing/\\n\\n\\nThis dataset was taken from the StatLib library which is maintained at Carnegie Mellon University.\\n\\nThe Boston house-price data of Harrison, D. and Rubinfeld, D.L. 'Hedonic\\nprices and the demand for clean air', J. Environ. Economics & Management,\\nvol.5, 81-102, 1978.   Used in Belsley, Kuh & Welsch, 'Regression diagnostics\\n...', Wiley, 1980.   N.B. Various transformations are used in the table on\\npages 244-261 of the latter.\\n\\nThe Boston house-price data has been used in many machine learning papers that address regression\\nproblems.   \\n     \\n.. topic:: References\\n\\n   - Belsley, Kuh & Welsch, 'Regression diagnostics: Identifying Influential Data and Sources of Collinearity', Wiley, 1980. 244-261.\\n   - Quinlan,R. (1993). Combining Instance-Based and Model-Based Learning. In Proceedings on the Tenth International Conference of Machine Learning, 236-243, University of Massachusetts, Amherst. Morgan Kaufmann.\\n\", 'filename': 'D:\\\\Anaconda\\\\lib\\\\site-packages\\\\sklearn\\\\datasets\\\\data\\\\boston_house_prices.csv'}\n"
     ]
    }
   ],
   "source": [
    "print(house_price_dataset)"
   ]
  },
  {
   "cell_type": "markdown",
   "id": "badbd5f9",
   "metadata": {},
   "source": [
    "# Data Preprocessing and Analysis"
   ]
  },
  {
   "cell_type": "code",
   "execution_count": 5,
   "id": "32831d9c",
   "metadata": {},
   "outputs": [
    {
     "name": "stdout",
     "output_type": "stream",
     "text": [
      "<class 'sklearn.utils.Bunch'>\n"
     ]
    }
   ],
   "source": [
    "print(type(house_price_dataset))"
   ]
  },
  {
   "cell_type": "code",
   "execution_count": 6,
   "id": "47192a21",
   "metadata": {},
   "outputs": [
    {
     "name": "stdout",
     "output_type": "stream",
     "text": [
      "<class 'numpy.ndarray'>\n"
     ]
    }
   ],
   "source": [
    "print(type(house_price_dataset.data))"
   ]
  },
  {
   "cell_type": "code",
   "execution_count": 7,
   "id": "aca9a293",
   "metadata": {},
   "outputs": [],
   "source": [
    "df_house_price = pd.DataFrame(house_price_dataset.data)"
   ]
  },
  {
   "cell_type": "code",
   "execution_count": 8,
   "id": "b6c4a187",
   "metadata": {},
   "outputs": [
    {
     "data": {
      "text/html": [
       "<div>\n",
       "<style scoped>\n",
       "    .dataframe tbody tr th:only-of-type {\n",
       "        vertical-align: middle;\n",
       "    }\n",
       "\n",
       "    .dataframe tbody tr th {\n",
       "        vertical-align: top;\n",
       "    }\n",
       "\n",
       "    .dataframe thead th {\n",
       "        text-align: right;\n",
       "    }\n",
       "</style>\n",
       "<table border=\"1\" class=\"dataframe\">\n",
       "  <thead>\n",
       "    <tr style=\"text-align: right;\">\n",
       "      <th></th>\n",
       "      <th>0</th>\n",
       "      <th>1</th>\n",
       "      <th>2</th>\n",
       "      <th>3</th>\n",
       "      <th>4</th>\n",
       "      <th>5</th>\n",
       "      <th>6</th>\n",
       "      <th>7</th>\n",
       "      <th>8</th>\n",
       "      <th>9</th>\n",
       "      <th>10</th>\n",
       "      <th>11</th>\n",
       "      <th>12</th>\n",
       "    </tr>\n",
       "  </thead>\n",
       "  <tbody>\n",
       "    <tr>\n",
       "      <th>0</th>\n",
       "      <td>0.00632</td>\n",
       "      <td>18.0</td>\n",
       "      <td>2.31</td>\n",
       "      <td>0.0</td>\n",
       "      <td>0.538</td>\n",
       "      <td>6.575</td>\n",
       "      <td>65.2</td>\n",
       "      <td>4.0900</td>\n",
       "      <td>1.0</td>\n",
       "      <td>296.0</td>\n",
       "      <td>15.3</td>\n",
       "      <td>396.90</td>\n",
       "      <td>4.98</td>\n",
       "    </tr>\n",
       "    <tr>\n",
       "      <th>1</th>\n",
       "      <td>0.02731</td>\n",
       "      <td>0.0</td>\n",
       "      <td>7.07</td>\n",
       "      <td>0.0</td>\n",
       "      <td>0.469</td>\n",
       "      <td>6.421</td>\n",
       "      <td>78.9</td>\n",
       "      <td>4.9671</td>\n",
       "      <td>2.0</td>\n",
       "      <td>242.0</td>\n",
       "      <td>17.8</td>\n",
       "      <td>396.90</td>\n",
       "      <td>9.14</td>\n",
       "    </tr>\n",
       "    <tr>\n",
       "      <th>2</th>\n",
       "      <td>0.02729</td>\n",
       "      <td>0.0</td>\n",
       "      <td>7.07</td>\n",
       "      <td>0.0</td>\n",
       "      <td>0.469</td>\n",
       "      <td>7.185</td>\n",
       "      <td>61.1</td>\n",
       "      <td>4.9671</td>\n",
       "      <td>2.0</td>\n",
       "      <td>242.0</td>\n",
       "      <td>17.8</td>\n",
       "      <td>392.83</td>\n",
       "      <td>4.03</td>\n",
       "    </tr>\n",
       "    <tr>\n",
       "      <th>3</th>\n",
       "      <td>0.03237</td>\n",
       "      <td>0.0</td>\n",
       "      <td>2.18</td>\n",
       "      <td>0.0</td>\n",
       "      <td>0.458</td>\n",
       "      <td>6.998</td>\n",
       "      <td>45.8</td>\n",
       "      <td>6.0622</td>\n",
       "      <td>3.0</td>\n",
       "      <td>222.0</td>\n",
       "      <td>18.7</td>\n",
       "      <td>394.63</td>\n",
       "      <td>2.94</td>\n",
       "    </tr>\n",
       "    <tr>\n",
       "      <th>4</th>\n",
       "      <td>0.06905</td>\n",
       "      <td>0.0</td>\n",
       "      <td>2.18</td>\n",
       "      <td>0.0</td>\n",
       "      <td>0.458</td>\n",
       "      <td>7.147</td>\n",
       "      <td>54.2</td>\n",
       "      <td>6.0622</td>\n",
       "      <td>3.0</td>\n",
       "      <td>222.0</td>\n",
       "      <td>18.7</td>\n",
       "      <td>396.90</td>\n",
       "      <td>5.33</td>\n",
       "    </tr>\n",
       "  </tbody>\n",
       "</table>\n",
       "</div>"
      ],
      "text/plain": [
       "        0     1     2    3      4      5     6       7    8      9     10  \\\n",
       "0  0.00632  18.0  2.31  0.0  0.538  6.575  65.2  4.0900  1.0  296.0  15.3   \n",
       "1  0.02731   0.0  7.07  0.0  0.469  6.421  78.9  4.9671  2.0  242.0  17.8   \n",
       "2  0.02729   0.0  7.07  0.0  0.469  7.185  61.1  4.9671  2.0  242.0  17.8   \n",
       "3  0.03237   0.0  2.18  0.0  0.458  6.998  45.8  6.0622  3.0  222.0  18.7   \n",
       "4  0.06905   0.0  2.18  0.0  0.458  7.147  54.2  6.0622  3.0  222.0  18.7   \n",
       "\n",
       "       11    12  \n",
       "0  396.90  4.98  \n",
       "1  396.90  9.14  \n",
       "2  392.83  4.03  \n",
       "3  394.63  2.94  \n",
       "4  396.90  5.33  "
      ]
     },
     "execution_count": 8,
     "metadata": {},
     "output_type": "execute_result"
    }
   ],
   "source": [
    "df_house_price.head()"
   ]
  },
  {
   "cell_type": "code",
   "execution_count": 9,
   "id": "74604a53",
   "metadata": {},
   "outputs": [],
   "source": [
    "df_house_price = pd.DataFrame(house_price_dataset.data, columns = house_price_dataset.feature_names)"
   ]
  },
  {
   "cell_type": "code",
   "execution_count": 10,
   "id": "b86944f9",
   "metadata": {},
   "outputs": [
    {
     "data": {
      "text/html": [
       "<div>\n",
       "<style scoped>\n",
       "    .dataframe tbody tr th:only-of-type {\n",
       "        vertical-align: middle;\n",
       "    }\n",
       "\n",
       "    .dataframe tbody tr th {\n",
       "        vertical-align: top;\n",
       "    }\n",
       "\n",
       "    .dataframe thead th {\n",
       "        text-align: right;\n",
       "    }\n",
       "</style>\n",
       "<table border=\"1\" class=\"dataframe\">\n",
       "  <thead>\n",
       "    <tr style=\"text-align: right;\">\n",
       "      <th></th>\n",
       "      <th>CRIM</th>\n",
       "      <th>ZN</th>\n",
       "      <th>INDUS</th>\n",
       "      <th>CHAS</th>\n",
       "      <th>NOX</th>\n",
       "      <th>RM</th>\n",
       "      <th>AGE</th>\n",
       "      <th>DIS</th>\n",
       "      <th>RAD</th>\n",
       "      <th>TAX</th>\n",
       "      <th>PTRATIO</th>\n",
       "      <th>B</th>\n",
       "      <th>LSTAT</th>\n",
       "    </tr>\n",
       "  </thead>\n",
       "  <tbody>\n",
       "    <tr>\n",
       "      <th>0</th>\n",
       "      <td>0.00632</td>\n",
       "      <td>18.0</td>\n",
       "      <td>2.31</td>\n",
       "      <td>0.0</td>\n",
       "      <td>0.538</td>\n",
       "      <td>6.575</td>\n",
       "      <td>65.2</td>\n",
       "      <td>4.0900</td>\n",
       "      <td>1.0</td>\n",
       "      <td>296.0</td>\n",
       "      <td>15.3</td>\n",
       "      <td>396.90</td>\n",
       "      <td>4.98</td>\n",
       "    </tr>\n",
       "    <tr>\n",
       "      <th>1</th>\n",
       "      <td>0.02731</td>\n",
       "      <td>0.0</td>\n",
       "      <td>7.07</td>\n",
       "      <td>0.0</td>\n",
       "      <td>0.469</td>\n",
       "      <td>6.421</td>\n",
       "      <td>78.9</td>\n",
       "      <td>4.9671</td>\n",
       "      <td>2.0</td>\n",
       "      <td>242.0</td>\n",
       "      <td>17.8</td>\n",
       "      <td>396.90</td>\n",
       "      <td>9.14</td>\n",
       "    </tr>\n",
       "    <tr>\n",
       "      <th>2</th>\n",
       "      <td>0.02729</td>\n",
       "      <td>0.0</td>\n",
       "      <td>7.07</td>\n",
       "      <td>0.0</td>\n",
       "      <td>0.469</td>\n",
       "      <td>7.185</td>\n",
       "      <td>61.1</td>\n",
       "      <td>4.9671</td>\n",
       "      <td>2.0</td>\n",
       "      <td>242.0</td>\n",
       "      <td>17.8</td>\n",
       "      <td>392.83</td>\n",
       "      <td>4.03</td>\n",
       "    </tr>\n",
       "    <tr>\n",
       "      <th>3</th>\n",
       "      <td>0.03237</td>\n",
       "      <td>0.0</td>\n",
       "      <td>2.18</td>\n",
       "      <td>0.0</td>\n",
       "      <td>0.458</td>\n",
       "      <td>6.998</td>\n",
       "      <td>45.8</td>\n",
       "      <td>6.0622</td>\n",
       "      <td>3.0</td>\n",
       "      <td>222.0</td>\n",
       "      <td>18.7</td>\n",
       "      <td>394.63</td>\n",
       "      <td>2.94</td>\n",
       "    </tr>\n",
       "    <tr>\n",
       "      <th>4</th>\n",
       "      <td>0.06905</td>\n",
       "      <td>0.0</td>\n",
       "      <td>2.18</td>\n",
       "      <td>0.0</td>\n",
       "      <td>0.458</td>\n",
       "      <td>7.147</td>\n",
       "      <td>54.2</td>\n",
       "      <td>6.0622</td>\n",
       "      <td>3.0</td>\n",
       "      <td>222.0</td>\n",
       "      <td>18.7</td>\n",
       "      <td>396.90</td>\n",
       "      <td>5.33</td>\n",
       "    </tr>\n",
       "  </tbody>\n",
       "</table>\n",
       "</div>"
      ],
      "text/plain": [
       "      CRIM    ZN  INDUS  CHAS    NOX     RM   AGE     DIS  RAD    TAX  \\\n",
       "0  0.00632  18.0   2.31   0.0  0.538  6.575  65.2  4.0900  1.0  296.0   \n",
       "1  0.02731   0.0   7.07   0.0  0.469  6.421  78.9  4.9671  2.0  242.0   \n",
       "2  0.02729   0.0   7.07   0.0  0.469  7.185  61.1  4.9671  2.0  242.0   \n",
       "3  0.03237   0.0   2.18   0.0  0.458  6.998  45.8  6.0622  3.0  222.0   \n",
       "4  0.06905   0.0   2.18   0.0  0.458  7.147  54.2  6.0622  3.0  222.0   \n",
       "\n",
       "   PTRATIO       B  LSTAT  \n",
       "0     15.3  396.90   4.98  \n",
       "1     17.8  396.90   9.14  \n",
       "2     17.8  392.83   4.03  \n",
       "3     18.7  394.63   2.94  \n",
       "4     18.7  396.90   5.33  "
      ]
     },
     "execution_count": 10,
     "metadata": {},
     "output_type": "execute_result"
    }
   ],
   "source": [
    "df_house_price.head()"
   ]
  },
  {
   "cell_type": "code",
   "execution_count": 11,
   "id": "dd705ad9",
   "metadata": {},
   "outputs": [],
   "source": [
    "df_house_price[\"price\"] = house_price_dataset.target"
   ]
  },
  {
   "cell_type": "code",
   "execution_count": 12,
   "id": "7ac1f7ea",
   "metadata": {},
   "outputs": [
    {
     "data": {
      "text/html": [
       "<div>\n",
       "<style scoped>\n",
       "    .dataframe tbody tr th:only-of-type {\n",
       "        vertical-align: middle;\n",
       "    }\n",
       "\n",
       "    .dataframe tbody tr th {\n",
       "        vertical-align: top;\n",
       "    }\n",
       "\n",
       "    .dataframe thead th {\n",
       "        text-align: right;\n",
       "    }\n",
       "</style>\n",
       "<table border=\"1\" class=\"dataframe\">\n",
       "  <thead>\n",
       "    <tr style=\"text-align: right;\">\n",
       "      <th></th>\n",
       "      <th>CRIM</th>\n",
       "      <th>ZN</th>\n",
       "      <th>INDUS</th>\n",
       "      <th>CHAS</th>\n",
       "      <th>NOX</th>\n",
       "      <th>RM</th>\n",
       "      <th>AGE</th>\n",
       "      <th>DIS</th>\n",
       "      <th>RAD</th>\n",
       "      <th>TAX</th>\n",
       "      <th>PTRATIO</th>\n",
       "      <th>B</th>\n",
       "      <th>LSTAT</th>\n",
       "      <th>price</th>\n",
       "    </tr>\n",
       "  </thead>\n",
       "  <tbody>\n",
       "    <tr>\n",
       "      <th>0</th>\n",
       "      <td>0.00632</td>\n",
       "      <td>18.0</td>\n",
       "      <td>2.31</td>\n",
       "      <td>0.0</td>\n",
       "      <td>0.538</td>\n",
       "      <td>6.575</td>\n",
       "      <td>65.2</td>\n",
       "      <td>4.0900</td>\n",
       "      <td>1.0</td>\n",
       "      <td>296.0</td>\n",
       "      <td>15.3</td>\n",
       "      <td>396.90</td>\n",
       "      <td>4.98</td>\n",
       "      <td>24.0</td>\n",
       "    </tr>\n",
       "    <tr>\n",
       "      <th>1</th>\n",
       "      <td>0.02731</td>\n",
       "      <td>0.0</td>\n",
       "      <td>7.07</td>\n",
       "      <td>0.0</td>\n",
       "      <td>0.469</td>\n",
       "      <td>6.421</td>\n",
       "      <td>78.9</td>\n",
       "      <td>4.9671</td>\n",
       "      <td>2.0</td>\n",
       "      <td>242.0</td>\n",
       "      <td>17.8</td>\n",
       "      <td>396.90</td>\n",
       "      <td>9.14</td>\n",
       "      <td>21.6</td>\n",
       "    </tr>\n",
       "    <tr>\n",
       "      <th>2</th>\n",
       "      <td>0.02729</td>\n",
       "      <td>0.0</td>\n",
       "      <td>7.07</td>\n",
       "      <td>0.0</td>\n",
       "      <td>0.469</td>\n",
       "      <td>7.185</td>\n",
       "      <td>61.1</td>\n",
       "      <td>4.9671</td>\n",
       "      <td>2.0</td>\n",
       "      <td>242.0</td>\n",
       "      <td>17.8</td>\n",
       "      <td>392.83</td>\n",
       "      <td>4.03</td>\n",
       "      <td>34.7</td>\n",
       "    </tr>\n",
       "    <tr>\n",
       "      <th>3</th>\n",
       "      <td>0.03237</td>\n",
       "      <td>0.0</td>\n",
       "      <td>2.18</td>\n",
       "      <td>0.0</td>\n",
       "      <td>0.458</td>\n",
       "      <td>6.998</td>\n",
       "      <td>45.8</td>\n",
       "      <td>6.0622</td>\n",
       "      <td>3.0</td>\n",
       "      <td>222.0</td>\n",
       "      <td>18.7</td>\n",
       "      <td>394.63</td>\n",
       "      <td>2.94</td>\n",
       "      <td>33.4</td>\n",
       "    </tr>\n",
       "    <tr>\n",
       "      <th>4</th>\n",
       "      <td>0.06905</td>\n",
       "      <td>0.0</td>\n",
       "      <td>2.18</td>\n",
       "      <td>0.0</td>\n",
       "      <td>0.458</td>\n",
       "      <td>7.147</td>\n",
       "      <td>54.2</td>\n",
       "      <td>6.0622</td>\n",
       "      <td>3.0</td>\n",
       "      <td>222.0</td>\n",
       "      <td>18.7</td>\n",
       "      <td>396.90</td>\n",
       "      <td>5.33</td>\n",
       "      <td>36.2</td>\n",
       "    </tr>\n",
       "  </tbody>\n",
       "</table>\n",
       "</div>"
      ],
      "text/plain": [
       "      CRIM    ZN  INDUS  CHAS    NOX     RM   AGE     DIS  RAD    TAX  \\\n",
       "0  0.00632  18.0   2.31   0.0  0.538  6.575  65.2  4.0900  1.0  296.0   \n",
       "1  0.02731   0.0   7.07   0.0  0.469  6.421  78.9  4.9671  2.0  242.0   \n",
       "2  0.02729   0.0   7.07   0.0  0.469  7.185  61.1  4.9671  2.0  242.0   \n",
       "3  0.03237   0.0   2.18   0.0  0.458  6.998  45.8  6.0622  3.0  222.0   \n",
       "4  0.06905   0.0   2.18   0.0  0.458  7.147  54.2  6.0622  3.0  222.0   \n",
       "\n",
       "   PTRATIO       B  LSTAT  price  \n",
       "0     15.3  396.90   4.98   24.0  \n",
       "1     17.8  396.90   9.14   21.6  \n",
       "2     17.8  392.83   4.03   34.7  \n",
       "3     18.7  394.63   2.94   33.4  \n",
       "4     18.7  396.90   5.33   36.2  "
      ]
     },
     "execution_count": 12,
     "metadata": {},
     "output_type": "execute_result"
    }
   ],
   "source": [
    "df_house_price.head()"
   ]
  },
  {
   "cell_type": "code",
   "execution_count": 13,
   "id": "4b647ed3",
   "metadata": {},
   "outputs": [
    {
     "data": {
      "text/plain": [
       "(506, 14)"
      ]
     },
     "execution_count": 13,
     "metadata": {},
     "output_type": "execute_result"
    }
   ],
   "source": [
    "df_house_price.shape"
   ]
  },
  {
   "cell_type": "code",
   "execution_count": 14,
   "id": "84ce6c8a",
   "metadata": {},
   "outputs": [
    {
     "data": {
      "text/plain": [
       "CRIM       0\n",
       "ZN         0\n",
       "INDUS      0\n",
       "CHAS       0\n",
       "NOX        0\n",
       "RM         0\n",
       "AGE        0\n",
       "DIS        0\n",
       "RAD        0\n",
       "TAX        0\n",
       "PTRATIO    0\n",
       "B          0\n",
       "LSTAT      0\n",
       "price      0\n",
       "dtype: int64"
      ]
     },
     "execution_count": 14,
     "metadata": {},
     "output_type": "execute_result"
    }
   ],
   "source": [
    "df_house_price.isnull().sum()"
   ]
  },
  {
   "cell_type": "code",
   "execution_count": 15,
   "id": "a87f2e4d",
   "metadata": {},
   "outputs": [
    {
     "data": {
      "text/html": [
       "<div>\n",
       "<style scoped>\n",
       "    .dataframe tbody tr th:only-of-type {\n",
       "        vertical-align: middle;\n",
       "    }\n",
       "\n",
       "    .dataframe tbody tr th {\n",
       "        vertical-align: top;\n",
       "    }\n",
       "\n",
       "    .dataframe thead th {\n",
       "        text-align: right;\n",
       "    }\n",
       "</style>\n",
       "<table border=\"1\" class=\"dataframe\">\n",
       "  <thead>\n",
       "    <tr style=\"text-align: right;\">\n",
       "      <th></th>\n",
       "      <th>CRIM</th>\n",
       "      <th>ZN</th>\n",
       "      <th>INDUS</th>\n",
       "      <th>CHAS</th>\n",
       "      <th>NOX</th>\n",
       "      <th>RM</th>\n",
       "      <th>AGE</th>\n",
       "      <th>DIS</th>\n",
       "      <th>RAD</th>\n",
       "      <th>TAX</th>\n",
       "      <th>PTRATIO</th>\n",
       "      <th>B</th>\n",
       "      <th>LSTAT</th>\n",
       "      <th>price</th>\n",
       "    </tr>\n",
       "  </thead>\n",
       "  <tbody>\n",
       "    <tr>\n",
       "      <th>count</th>\n",
       "      <td>506.000000</td>\n",
       "      <td>506.000000</td>\n",
       "      <td>506.000000</td>\n",
       "      <td>506.000000</td>\n",
       "      <td>506.000000</td>\n",
       "      <td>506.000000</td>\n",
       "      <td>506.000000</td>\n",
       "      <td>506.000000</td>\n",
       "      <td>506.000000</td>\n",
       "      <td>506.000000</td>\n",
       "      <td>506.000000</td>\n",
       "      <td>506.000000</td>\n",
       "      <td>506.000000</td>\n",
       "      <td>506.000000</td>\n",
       "    </tr>\n",
       "    <tr>\n",
       "      <th>mean</th>\n",
       "      <td>3.613524</td>\n",
       "      <td>11.363636</td>\n",
       "      <td>11.136779</td>\n",
       "      <td>0.069170</td>\n",
       "      <td>0.554695</td>\n",
       "      <td>6.284634</td>\n",
       "      <td>68.574901</td>\n",
       "      <td>3.795043</td>\n",
       "      <td>9.549407</td>\n",
       "      <td>408.237154</td>\n",
       "      <td>18.455534</td>\n",
       "      <td>356.674032</td>\n",
       "      <td>12.653063</td>\n",
       "      <td>22.532806</td>\n",
       "    </tr>\n",
       "    <tr>\n",
       "      <th>std</th>\n",
       "      <td>8.601545</td>\n",
       "      <td>23.322453</td>\n",
       "      <td>6.860353</td>\n",
       "      <td>0.253994</td>\n",
       "      <td>0.115878</td>\n",
       "      <td>0.702617</td>\n",
       "      <td>28.148861</td>\n",
       "      <td>2.105710</td>\n",
       "      <td>8.707259</td>\n",
       "      <td>168.537116</td>\n",
       "      <td>2.164946</td>\n",
       "      <td>91.294864</td>\n",
       "      <td>7.141062</td>\n",
       "      <td>9.197104</td>\n",
       "    </tr>\n",
       "    <tr>\n",
       "      <th>min</th>\n",
       "      <td>0.006320</td>\n",
       "      <td>0.000000</td>\n",
       "      <td>0.460000</td>\n",
       "      <td>0.000000</td>\n",
       "      <td>0.385000</td>\n",
       "      <td>3.561000</td>\n",
       "      <td>2.900000</td>\n",
       "      <td>1.129600</td>\n",
       "      <td>1.000000</td>\n",
       "      <td>187.000000</td>\n",
       "      <td>12.600000</td>\n",
       "      <td>0.320000</td>\n",
       "      <td>1.730000</td>\n",
       "      <td>5.000000</td>\n",
       "    </tr>\n",
       "    <tr>\n",
       "      <th>25%</th>\n",
       "      <td>0.082045</td>\n",
       "      <td>0.000000</td>\n",
       "      <td>5.190000</td>\n",
       "      <td>0.000000</td>\n",
       "      <td>0.449000</td>\n",
       "      <td>5.885500</td>\n",
       "      <td>45.025000</td>\n",
       "      <td>2.100175</td>\n",
       "      <td>4.000000</td>\n",
       "      <td>279.000000</td>\n",
       "      <td>17.400000</td>\n",
       "      <td>375.377500</td>\n",
       "      <td>6.950000</td>\n",
       "      <td>17.025000</td>\n",
       "    </tr>\n",
       "    <tr>\n",
       "      <th>50%</th>\n",
       "      <td>0.256510</td>\n",
       "      <td>0.000000</td>\n",
       "      <td>9.690000</td>\n",
       "      <td>0.000000</td>\n",
       "      <td>0.538000</td>\n",
       "      <td>6.208500</td>\n",
       "      <td>77.500000</td>\n",
       "      <td>3.207450</td>\n",
       "      <td>5.000000</td>\n",
       "      <td>330.000000</td>\n",
       "      <td>19.050000</td>\n",
       "      <td>391.440000</td>\n",
       "      <td>11.360000</td>\n",
       "      <td>21.200000</td>\n",
       "    </tr>\n",
       "    <tr>\n",
       "      <th>75%</th>\n",
       "      <td>3.677083</td>\n",
       "      <td>12.500000</td>\n",
       "      <td>18.100000</td>\n",
       "      <td>0.000000</td>\n",
       "      <td>0.624000</td>\n",
       "      <td>6.623500</td>\n",
       "      <td>94.075000</td>\n",
       "      <td>5.188425</td>\n",
       "      <td>24.000000</td>\n",
       "      <td>666.000000</td>\n",
       "      <td>20.200000</td>\n",
       "      <td>396.225000</td>\n",
       "      <td>16.955000</td>\n",
       "      <td>25.000000</td>\n",
       "    </tr>\n",
       "    <tr>\n",
       "      <th>max</th>\n",
       "      <td>88.976200</td>\n",
       "      <td>100.000000</td>\n",
       "      <td>27.740000</td>\n",
       "      <td>1.000000</td>\n",
       "      <td>0.871000</td>\n",
       "      <td>8.780000</td>\n",
       "      <td>100.000000</td>\n",
       "      <td>12.126500</td>\n",
       "      <td>24.000000</td>\n",
       "      <td>711.000000</td>\n",
       "      <td>22.000000</td>\n",
       "      <td>396.900000</td>\n",
       "      <td>37.970000</td>\n",
       "      <td>50.000000</td>\n",
       "    </tr>\n",
       "  </tbody>\n",
       "</table>\n",
       "</div>"
      ],
      "text/plain": [
       "             CRIM          ZN       INDUS        CHAS         NOX          RM  \\\n",
       "count  506.000000  506.000000  506.000000  506.000000  506.000000  506.000000   \n",
       "mean     3.613524   11.363636   11.136779    0.069170    0.554695    6.284634   \n",
       "std      8.601545   23.322453    6.860353    0.253994    0.115878    0.702617   \n",
       "min      0.006320    0.000000    0.460000    0.000000    0.385000    3.561000   \n",
       "25%      0.082045    0.000000    5.190000    0.000000    0.449000    5.885500   \n",
       "50%      0.256510    0.000000    9.690000    0.000000    0.538000    6.208500   \n",
       "75%      3.677083   12.500000   18.100000    0.000000    0.624000    6.623500   \n",
       "max     88.976200  100.000000   27.740000    1.000000    0.871000    8.780000   \n",
       "\n",
       "              AGE         DIS         RAD         TAX     PTRATIO           B  \\\n",
       "count  506.000000  506.000000  506.000000  506.000000  506.000000  506.000000   \n",
       "mean    68.574901    3.795043    9.549407  408.237154   18.455534  356.674032   \n",
       "std     28.148861    2.105710    8.707259  168.537116    2.164946   91.294864   \n",
       "min      2.900000    1.129600    1.000000  187.000000   12.600000    0.320000   \n",
       "25%     45.025000    2.100175    4.000000  279.000000   17.400000  375.377500   \n",
       "50%     77.500000    3.207450    5.000000  330.000000   19.050000  391.440000   \n",
       "75%     94.075000    5.188425   24.000000  666.000000   20.200000  396.225000   \n",
       "max    100.000000   12.126500   24.000000  711.000000   22.000000  396.900000   \n",
       "\n",
       "            LSTAT       price  \n",
       "count  506.000000  506.000000  \n",
       "mean    12.653063   22.532806  \n",
       "std      7.141062    9.197104  \n",
       "min      1.730000    5.000000  \n",
       "25%      6.950000   17.025000  \n",
       "50%     11.360000   21.200000  \n",
       "75%     16.955000   25.000000  \n",
       "max     37.970000   50.000000  "
      ]
     },
     "execution_count": 15,
     "metadata": {},
     "output_type": "execute_result"
    }
   ],
   "source": [
    "df_house_price.describe()"
   ]
  },
  {
   "cell_type": "markdown",
   "id": "e1f19b68",
   "metadata": {},
   "source": [
    "# Understanding the correlation between various features in the DataFrame"
   ]
  },
  {
   "cell_type": "markdown",
   "id": "778e8528",
   "metadata": {},
   "source": [
    "1. Postive Correlation - change in one value (+ve change or -ve change) has similar impact on the other value, both variable changes in the same direction\n",
    "\n",
    "2. Negative Correlation - change in one value (+ve change or -ve change) has an adverse impact on the other value, both variable changes in opposite direction\n",
    "\n",
    "\n",
    "Here we are looking at the relationship between the different features in our DataFrame"
   ]
  },
  {
   "cell_type": "code",
   "execution_count": 16,
   "id": "e28b96f8",
   "metadata": {},
   "outputs": [],
   "source": [
    "correlation = df_house_price.corr()"
   ]
  },
  {
   "cell_type": "code",
   "execution_count": 17,
   "id": "4cdf1d46",
   "metadata": {},
   "outputs": [
    {
     "data": {
      "text/html": [
       "<div>\n",
       "<style scoped>\n",
       "    .dataframe tbody tr th:only-of-type {\n",
       "        vertical-align: middle;\n",
       "    }\n",
       "\n",
       "    .dataframe tbody tr th {\n",
       "        vertical-align: top;\n",
       "    }\n",
       "\n",
       "    .dataframe thead th {\n",
       "        text-align: right;\n",
       "    }\n",
       "</style>\n",
       "<table border=\"1\" class=\"dataframe\">\n",
       "  <thead>\n",
       "    <tr style=\"text-align: right;\">\n",
       "      <th></th>\n",
       "      <th>CRIM</th>\n",
       "      <th>ZN</th>\n",
       "      <th>INDUS</th>\n",
       "      <th>CHAS</th>\n",
       "      <th>NOX</th>\n",
       "      <th>RM</th>\n",
       "      <th>AGE</th>\n",
       "      <th>DIS</th>\n",
       "      <th>RAD</th>\n",
       "      <th>TAX</th>\n",
       "      <th>PTRATIO</th>\n",
       "      <th>B</th>\n",
       "      <th>LSTAT</th>\n",
       "      <th>price</th>\n",
       "    </tr>\n",
       "  </thead>\n",
       "  <tbody>\n",
       "    <tr>\n",
       "      <th>CRIM</th>\n",
       "      <td>1.000000</td>\n",
       "      <td>-0.200469</td>\n",
       "      <td>0.406583</td>\n",
       "      <td>-0.055892</td>\n",
       "      <td>0.420972</td>\n",
       "      <td>-0.219247</td>\n",
       "      <td>0.352734</td>\n",
       "      <td>-0.379670</td>\n",
       "      <td>0.625505</td>\n",
       "      <td>0.582764</td>\n",
       "      <td>0.289946</td>\n",
       "      <td>-0.385064</td>\n",
       "      <td>0.455621</td>\n",
       "      <td>-0.388305</td>\n",
       "    </tr>\n",
       "    <tr>\n",
       "      <th>ZN</th>\n",
       "      <td>-0.200469</td>\n",
       "      <td>1.000000</td>\n",
       "      <td>-0.533828</td>\n",
       "      <td>-0.042697</td>\n",
       "      <td>-0.516604</td>\n",
       "      <td>0.311991</td>\n",
       "      <td>-0.569537</td>\n",
       "      <td>0.664408</td>\n",
       "      <td>-0.311948</td>\n",
       "      <td>-0.314563</td>\n",
       "      <td>-0.391679</td>\n",
       "      <td>0.175520</td>\n",
       "      <td>-0.412995</td>\n",
       "      <td>0.360445</td>\n",
       "    </tr>\n",
       "    <tr>\n",
       "      <th>INDUS</th>\n",
       "      <td>0.406583</td>\n",
       "      <td>-0.533828</td>\n",
       "      <td>1.000000</td>\n",
       "      <td>0.062938</td>\n",
       "      <td>0.763651</td>\n",
       "      <td>-0.391676</td>\n",
       "      <td>0.644779</td>\n",
       "      <td>-0.708027</td>\n",
       "      <td>0.595129</td>\n",
       "      <td>0.720760</td>\n",
       "      <td>0.383248</td>\n",
       "      <td>-0.356977</td>\n",
       "      <td>0.603800</td>\n",
       "      <td>-0.483725</td>\n",
       "    </tr>\n",
       "    <tr>\n",
       "      <th>CHAS</th>\n",
       "      <td>-0.055892</td>\n",
       "      <td>-0.042697</td>\n",
       "      <td>0.062938</td>\n",
       "      <td>1.000000</td>\n",
       "      <td>0.091203</td>\n",
       "      <td>0.091251</td>\n",
       "      <td>0.086518</td>\n",
       "      <td>-0.099176</td>\n",
       "      <td>-0.007368</td>\n",
       "      <td>-0.035587</td>\n",
       "      <td>-0.121515</td>\n",
       "      <td>0.048788</td>\n",
       "      <td>-0.053929</td>\n",
       "      <td>0.175260</td>\n",
       "    </tr>\n",
       "    <tr>\n",
       "      <th>NOX</th>\n",
       "      <td>0.420972</td>\n",
       "      <td>-0.516604</td>\n",
       "      <td>0.763651</td>\n",
       "      <td>0.091203</td>\n",
       "      <td>1.000000</td>\n",
       "      <td>-0.302188</td>\n",
       "      <td>0.731470</td>\n",
       "      <td>-0.769230</td>\n",
       "      <td>0.611441</td>\n",
       "      <td>0.668023</td>\n",
       "      <td>0.188933</td>\n",
       "      <td>-0.380051</td>\n",
       "      <td>0.590879</td>\n",
       "      <td>-0.427321</td>\n",
       "    </tr>\n",
       "    <tr>\n",
       "      <th>RM</th>\n",
       "      <td>-0.219247</td>\n",
       "      <td>0.311991</td>\n",
       "      <td>-0.391676</td>\n",
       "      <td>0.091251</td>\n",
       "      <td>-0.302188</td>\n",
       "      <td>1.000000</td>\n",
       "      <td>-0.240265</td>\n",
       "      <td>0.205246</td>\n",
       "      <td>-0.209847</td>\n",
       "      <td>-0.292048</td>\n",
       "      <td>-0.355501</td>\n",
       "      <td>0.128069</td>\n",
       "      <td>-0.613808</td>\n",
       "      <td>0.695360</td>\n",
       "    </tr>\n",
       "    <tr>\n",
       "      <th>AGE</th>\n",
       "      <td>0.352734</td>\n",
       "      <td>-0.569537</td>\n",
       "      <td>0.644779</td>\n",
       "      <td>0.086518</td>\n",
       "      <td>0.731470</td>\n",
       "      <td>-0.240265</td>\n",
       "      <td>1.000000</td>\n",
       "      <td>-0.747881</td>\n",
       "      <td>0.456022</td>\n",
       "      <td>0.506456</td>\n",
       "      <td>0.261515</td>\n",
       "      <td>-0.273534</td>\n",
       "      <td>0.602339</td>\n",
       "      <td>-0.376955</td>\n",
       "    </tr>\n",
       "    <tr>\n",
       "      <th>DIS</th>\n",
       "      <td>-0.379670</td>\n",
       "      <td>0.664408</td>\n",
       "      <td>-0.708027</td>\n",
       "      <td>-0.099176</td>\n",
       "      <td>-0.769230</td>\n",
       "      <td>0.205246</td>\n",
       "      <td>-0.747881</td>\n",
       "      <td>1.000000</td>\n",
       "      <td>-0.494588</td>\n",
       "      <td>-0.534432</td>\n",
       "      <td>-0.232471</td>\n",
       "      <td>0.291512</td>\n",
       "      <td>-0.496996</td>\n",
       "      <td>0.249929</td>\n",
       "    </tr>\n",
       "    <tr>\n",
       "      <th>RAD</th>\n",
       "      <td>0.625505</td>\n",
       "      <td>-0.311948</td>\n",
       "      <td>0.595129</td>\n",
       "      <td>-0.007368</td>\n",
       "      <td>0.611441</td>\n",
       "      <td>-0.209847</td>\n",
       "      <td>0.456022</td>\n",
       "      <td>-0.494588</td>\n",
       "      <td>1.000000</td>\n",
       "      <td>0.910228</td>\n",
       "      <td>0.464741</td>\n",
       "      <td>-0.444413</td>\n",
       "      <td>0.488676</td>\n",
       "      <td>-0.381626</td>\n",
       "    </tr>\n",
       "    <tr>\n",
       "      <th>TAX</th>\n",
       "      <td>0.582764</td>\n",
       "      <td>-0.314563</td>\n",
       "      <td>0.720760</td>\n",
       "      <td>-0.035587</td>\n",
       "      <td>0.668023</td>\n",
       "      <td>-0.292048</td>\n",
       "      <td>0.506456</td>\n",
       "      <td>-0.534432</td>\n",
       "      <td>0.910228</td>\n",
       "      <td>1.000000</td>\n",
       "      <td>0.460853</td>\n",
       "      <td>-0.441808</td>\n",
       "      <td>0.543993</td>\n",
       "      <td>-0.468536</td>\n",
       "    </tr>\n",
       "    <tr>\n",
       "      <th>PTRATIO</th>\n",
       "      <td>0.289946</td>\n",
       "      <td>-0.391679</td>\n",
       "      <td>0.383248</td>\n",
       "      <td>-0.121515</td>\n",
       "      <td>0.188933</td>\n",
       "      <td>-0.355501</td>\n",
       "      <td>0.261515</td>\n",
       "      <td>-0.232471</td>\n",
       "      <td>0.464741</td>\n",
       "      <td>0.460853</td>\n",
       "      <td>1.000000</td>\n",
       "      <td>-0.177383</td>\n",
       "      <td>0.374044</td>\n",
       "      <td>-0.507787</td>\n",
       "    </tr>\n",
       "    <tr>\n",
       "      <th>B</th>\n",
       "      <td>-0.385064</td>\n",
       "      <td>0.175520</td>\n",
       "      <td>-0.356977</td>\n",
       "      <td>0.048788</td>\n",
       "      <td>-0.380051</td>\n",
       "      <td>0.128069</td>\n",
       "      <td>-0.273534</td>\n",
       "      <td>0.291512</td>\n",
       "      <td>-0.444413</td>\n",
       "      <td>-0.441808</td>\n",
       "      <td>-0.177383</td>\n",
       "      <td>1.000000</td>\n",
       "      <td>-0.366087</td>\n",
       "      <td>0.333461</td>\n",
       "    </tr>\n",
       "    <tr>\n",
       "      <th>LSTAT</th>\n",
       "      <td>0.455621</td>\n",
       "      <td>-0.412995</td>\n",
       "      <td>0.603800</td>\n",
       "      <td>-0.053929</td>\n",
       "      <td>0.590879</td>\n",
       "      <td>-0.613808</td>\n",
       "      <td>0.602339</td>\n",
       "      <td>-0.496996</td>\n",
       "      <td>0.488676</td>\n",
       "      <td>0.543993</td>\n",
       "      <td>0.374044</td>\n",
       "      <td>-0.366087</td>\n",
       "      <td>1.000000</td>\n",
       "      <td>-0.737663</td>\n",
       "    </tr>\n",
       "    <tr>\n",
       "      <th>price</th>\n",
       "      <td>-0.388305</td>\n",
       "      <td>0.360445</td>\n",
       "      <td>-0.483725</td>\n",
       "      <td>0.175260</td>\n",
       "      <td>-0.427321</td>\n",
       "      <td>0.695360</td>\n",
       "      <td>-0.376955</td>\n",
       "      <td>0.249929</td>\n",
       "      <td>-0.381626</td>\n",
       "      <td>-0.468536</td>\n",
       "      <td>-0.507787</td>\n",
       "      <td>0.333461</td>\n",
       "      <td>-0.737663</td>\n",
       "      <td>1.000000</td>\n",
       "    </tr>\n",
       "  </tbody>\n",
       "</table>\n",
       "</div>"
      ],
      "text/plain": [
       "             CRIM        ZN     INDUS      CHAS       NOX        RM       AGE  \\\n",
       "CRIM     1.000000 -0.200469  0.406583 -0.055892  0.420972 -0.219247  0.352734   \n",
       "ZN      -0.200469  1.000000 -0.533828 -0.042697 -0.516604  0.311991 -0.569537   \n",
       "INDUS    0.406583 -0.533828  1.000000  0.062938  0.763651 -0.391676  0.644779   \n",
       "CHAS    -0.055892 -0.042697  0.062938  1.000000  0.091203  0.091251  0.086518   \n",
       "NOX      0.420972 -0.516604  0.763651  0.091203  1.000000 -0.302188  0.731470   \n",
       "RM      -0.219247  0.311991 -0.391676  0.091251 -0.302188  1.000000 -0.240265   \n",
       "AGE      0.352734 -0.569537  0.644779  0.086518  0.731470 -0.240265  1.000000   \n",
       "DIS     -0.379670  0.664408 -0.708027 -0.099176 -0.769230  0.205246 -0.747881   \n",
       "RAD      0.625505 -0.311948  0.595129 -0.007368  0.611441 -0.209847  0.456022   \n",
       "TAX      0.582764 -0.314563  0.720760 -0.035587  0.668023 -0.292048  0.506456   \n",
       "PTRATIO  0.289946 -0.391679  0.383248 -0.121515  0.188933 -0.355501  0.261515   \n",
       "B       -0.385064  0.175520 -0.356977  0.048788 -0.380051  0.128069 -0.273534   \n",
       "LSTAT    0.455621 -0.412995  0.603800 -0.053929  0.590879 -0.613808  0.602339   \n",
       "price   -0.388305  0.360445 -0.483725  0.175260 -0.427321  0.695360 -0.376955   \n",
       "\n",
       "              DIS       RAD       TAX   PTRATIO         B     LSTAT     price  \n",
       "CRIM    -0.379670  0.625505  0.582764  0.289946 -0.385064  0.455621 -0.388305  \n",
       "ZN       0.664408 -0.311948 -0.314563 -0.391679  0.175520 -0.412995  0.360445  \n",
       "INDUS   -0.708027  0.595129  0.720760  0.383248 -0.356977  0.603800 -0.483725  \n",
       "CHAS    -0.099176 -0.007368 -0.035587 -0.121515  0.048788 -0.053929  0.175260  \n",
       "NOX     -0.769230  0.611441  0.668023  0.188933 -0.380051  0.590879 -0.427321  \n",
       "RM       0.205246 -0.209847 -0.292048 -0.355501  0.128069 -0.613808  0.695360  \n",
       "AGE     -0.747881  0.456022  0.506456  0.261515 -0.273534  0.602339 -0.376955  \n",
       "DIS      1.000000 -0.494588 -0.534432 -0.232471  0.291512 -0.496996  0.249929  \n",
       "RAD     -0.494588  1.000000  0.910228  0.464741 -0.444413  0.488676 -0.381626  \n",
       "TAX     -0.534432  0.910228  1.000000  0.460853 -0.441808  0.543993 -0.468536  \n",
       "PTRATIO -0.232471  0.464741  0.460853  1.000000 -0.177383  0.374044 -0.507787  \n",
       "B        0.291512 -0.444413 -0.441808 -0.177383  1.000000 -0.366087  0.333461  \n",
       "LSTAT   -0.496996  0.488676  0.543993  0.374044 -0.366087  1.000000 -0.737663  \n",
       "price    0.249929 -0.381626 -0.468536 -0.507787  0.333461 -0.737663  1.000000  "
      ]
     },
     "execution_count": 17,
     "metadata": {},
     "output_type": "execute_result"
    }
   ],
   "source": [
    "correlation"
   ]
  },
  {
   "cell_type": "code",
   "execution_count": 18,
   "id": "aaf3fc79",
   "metadata": {},
   "outputs": [
    {
     "data": {
      "text/plain": [
       "<AxesSubplot:>"
      ]
     },
     "execution_count": 18,
     "metadata": {},
     "output_type": "execute_result"
    },
    {
     "data": {
      "image/png": "[encoded data removed]",
      "text/plain": [
       "<Figure size 720x720 with 2 Axes>"
      ]
     },
     "metadata": {
      "needs_background": "light"
     },
     "output_type": "display_data"
    }
   ],
   "source": [
    "plt.figure(figsize = (10, 10))\n",
    "sns.heatmap(correlation, cbar = True, square = True, fmt = '.1f', annot = True, annot_kws = {'size': 8}, cmap = 'Blues')"
   ]
  },
  {
   "cell_type": "markdown",
   "id": "ad75cb80",
   "metadata": {},
   "source": [
    "Splitting the data and Target "
   ]
  },
  {
   "cell_type": "code",
   "execution_count": 19,
   "id": "30c8de21",
   "metadata": {},
   "outputs": [],
   "source": [
    "X = df_house_price.drop(columns='price', axis = 1)\n",
    "Y = df_house_price['price']"
   ]
  },
  {
   "cell_type": "code",
   "execution_count": 20,
   "id": "f190f8b6",
   "metadata": {},
   "outputs": [
    {
     "name": "stdout",
     "output_type": "stream",
     "text": [
      "        CRIM    ZN  INDUS  CHAS    NOX     RM   AGE     DIS  RAD    TAX  \\\n",
      "0    0.00632  18.0   2.31   0.0  0.538  6.575  65.2  4.0900  1.0  296.0   \n",
      "1    0.02731   0.0   7.07   0.0  0.469  6.421  78.9  4.9671  2.0  242.0   \n",
      "2    0.02729   0.0   7.07   0.0  0.469  7.185  61.1  4.9671  2.0  242.0   \n",
      "3    0.03237   0.0   2.18   0.0  0.458  6.998  45.8  6.0622  3.0  222.0   \n",
      "4    0.06905   0.0   2.18   0.0  0.458  7.147  54.2  6.0622  3.0  222.0   \n",
      "..       ...   ...    ...   ...    ...    ...   ...     ...  ...    ...   \n",
      "501  0.06263   0.0  11.93   0.0  0.573  6.593  69.1  2.4786  1.0  273.0   \n",
      "502  0.04527   0.0  11.93   0.0  0.573  6.120  76.7  2.2875  1.0  273.0   \n",
      "503  0.06076   0.0  11.93   0.0  0.573  6.976  91.0  2.1675  1.0  273.0   \n",
      "504  0.10959   0.0  11.93   0.0  0.573  6.794  89.3  2.3889  1.0  273.0   \n",
      "505  0.04741   0.0  11.93   0.0  0.573  6.030  80.8  2.5050  1.0  273.0   \n",
      "\n",
      "     PTRATIO       B  LSTAT  \n",
      "0       15.3  396.90   4.98  \n",
      "1       17.8  396.90   9.14  \n",
      "2       17.8  392.83   4.03  \n",
      "3       18.7  394.63   2.94  \n",
      "4       18.7  396.90   5.33  \n",
      "..       ...     ...    ...  \n",
      "501     21.0  391.99   9.67  \n",
      "502     21.0  396.90   9.08  \n",
      "503     21.0  396.90   5.64  \n",
      "504     21.0  393.45   6.48  \n",
      "505     21.0  396.90   7.88  \n",
      "\n",
      "[506 rows x 13 columns]\n"
     ]
    }
   ],
   "source": [
    "print(X)"
   ]
  },
  {
   "cell_type": "code",
   "execution_count": 21,
   "id": "1c77bed9",
   "metadata": {},
   "outputs": [
    {
     "name": "stdout",
     "output_type": "stream",
     "text": [
      "0      24.0\n",
      "1      21.6\n",
      "2      34.7\n",
      "3      33.4\n",
      "4      36.2\n",
      "       ... \n",
      "501    22.4\n",
      "502    20.6\n",
      "503    23.9\n",
      "504    22.0\n",
      "505    11.9\n",
      "Name: price, Length: 506, dtype: float64\n"
     ]
    }
   ],
   "source": [
    "print(Y)"
   ]
  },
  {
   "cell_type": "markdown",
   "id": "20f37166",
   "metadata": {},
   "source": [
    "Splitting the data into Training data and Test data"
   ]
  },
  {
   "cell_type": "code",
   "execution_count": 22,
   "id": "cb77a636",
   "metadata": {},
   "outputs": [],
   "source": [
    "X_train, X_test, Y_train, Y_test = train_test_split(X, Y, test_size = 0.2, random_state = 2)"
   ]
  },
  {
   "cell_type": "code",
   "execution_count": 23,
   "id": "4ae80849",
   "metadata": {},
   "outputs": [
    {
     "name": "stdout",
     "output_type": "stream",
     "text": [
      "(506, 13) (404, 13) (102, 13)\n"
     ]
    }
   ],
   "source": [
    "print(X.shape, X_train.shape, X_test.shape)"
   ]
  },
  {
   "cell_type": "code",
   "execution_count": 24,
   "id": "ce6c3238",
   "metadata": {},
   "outputs": [
    {
     "name": "stdout",
     "output_type": "stream",
     "text": [
      "        CRIM    ZN  INDUS  CHAS    NOX     RM   AGE     DIS  RAD    TAX  \\\n",
      "0    0.00632  18.0   2.31   0.0  0.538  6.575  65.2  4.0900  1.0  296.0   \n",
      "1    0.02731   0.0   7.07   0.0  0.469  6.421  78.9  4.9671  2.0  242.0   \n",
      "2    0.02729   0.0   7.07   0.0  0.469  7.185  61.1  4.9671  2.0  242.0   \n",
      "3    0.03237   0.0   2.18   0.0  0.458  6.998  45.8  6.0622  3.0  222.0   \n",
      "4    0.06905   0.0   2.18   0.0  0.458  7.147  54.2  6.0622  3.0  222.0   \n",
      "..       ...   ...    ...   ...    ...    ...   ...     ...  ...    ...   \n",
      "501  0.06263   0.0  11.93   0.0  0.573  6.593  69.1  2.4786  1.0  273.0   \n",
      "502  0.04527   0.0  11.93   0.0  0.573  6.120  76.7  2.2875  1.0  273.0   \n",
      "503  0.06076   0.0  11.93   0.0  0.573  6.976  91.0  2.1675  1.0  273.0   \n",
      "504  0.10959   0.0  11.93   0.0  0.573  6.794  89.3  2.3889  1.0  273.0   \n",
      "505  0.04741   0.0  11.93   0.0  0.573  6.030  80.8  2.5050  1.0  273.0   \n",
      "\n",
      "     PTRATIO       B  LSTAT  \n",
      "0       15.3  396.90   4.98  \n",
      "1       17.8  396.90   9.14  \n",
      "2       17.8  392.83   4.03  \n",
      "3       18.7  394.63   2.94  \n",
      "4       18.7  396.90   5.33  \n",
      "..       ...     ...    ...  \n",
      "501     21.0  391.99   9.67  \n",
      "502     21.0  396.90   9.08  \n",
      "503     21.0  396.90   5.64  \n",
      "504     21.0  393.45   6.48  \n",
      "505     21.0  396.90   7.88  \n",
      "\n",
      "[506 rows x 13 columns]\n"
     ]
    }
   ],
   "source": [
    "print(X)"
   ]
  },
  {
   "cell_type": "code",
   "execution_count": 25,
   "id": "e9864da8",
   "metadata": {},
   "outputs": [
    {
     "name": "stdout",
     "output_type": "stream",
     "text": [
      "        CRIM    ZN  INDUS  CHAS    NOX     RM   AGE     DIS  RAD    TAX  \\\n",
      "321  0.18159   0.0   7.38   0.0  0.493  6.376  54.3  4.5404  5.0  287.0   \n",
      "37   0.08014   0.0   5.96   0.0  0.499  5.850  41.5  3.9342  5.0  279.0   \n",
      "286  0.01965  80.0   1.76   0.0  0.385  6.230  31.5  9.0892  1.0  241.0   \n",
      "2    0.02729   0.0   7.07   0.0  0.469  7.185  61.1  4.9671  2.0  242.0   \n",
      "25   0.84054   0.0   8.14   0.0  0.538  5.599  85.7  4.4546  4.0  307.0   \n",
      "..       ...   ...    ...   ...    ...    ...   ...     ...  ...    ...   \n",
      "22   1.23247   0.0   8.14   0.0  0.538  6.142  91.7  3.9769  4.0  307.0   \n",
      "72   0.09164   0.0  10.81   0.0  0.413  6.065   7.8  5.2873  4.0  305.0   \n",
      "493  0.17331   0.0   9.69   0.0  0.585  5.707  54.0  2.3817  6.0  391.0   \n",
      "15   0.62739   0.0   8.14   0.0  0.538  5.834  56.5  4.4986  4.0  307.0   \n",
      "168  2.30040   0.0  19.58   0.0  0.605  6.319  96.1  2.1000  5.0  403.0   \n",
      "\n",
      "     PTRATIO       B  LSTAT  \n",
      "321     19.6  396.90   6.87  \n",
      "37      19.2  396.90   8.77  \n",
      "286     18.2  341.60  12.93  \n",
      "2       17.8  392.83   4.03  \n",
      "25      21.0  303.42  16.51  \n",
      "..       ...     ...    ...  \n",
      "22      21.0  396.90  18.72  \n",
      "72      19.2  390.91   5.52  \n",
      "493     19.2  396.90  12.01  \n",
      "15      21.0  395.62   8.47  \n",
      "168     14.7  297.09  11.10  \n",
      "\n",
      "[404 rows x 13 columns]\n"
     ]
    }
   ],
   "source": [
    "print(X_train)"
   ]
  },
  {
   "cell_type": "code",
   "execution_count": 26,
   "id": "a1d15f2b",
   "metadata": {},
   "outputs": [
    {
     "name": "stdout",
     "output_type": "stream",
     "text": [
      "         CRIM    ZN  INDUS  CHAS    NOX     RM   AGE     DIS   RAD    TAX  \\\n",
      "463   5.82115   0.0  18.10   0.0  0.713  6.513  89.9  2.8016  24.0  666.0   \n",
      "152   1.12658   0.0  19.58   1.0  0.871  5.012  88.0  1.6102   5.0  403.0   \n",
      "291   0.07886  80.0   4.95   0.0  0.411  7.148  27.7  5.1167   4.0  245.0   \n",
      "183   0.10008   0.0   2.46   0.0  0.488  6.563  95.6  2.8470   3.0  193.0   \n",
      "384  20.08490   0.0  18.10   0.0  0.700  4.368  91.2  1.4395  24.0  666.0   \n",
      "..        ...   ...    ...   ...    ...    ...   ...     ...   ...    ...   \n",
      "200   0.01778  95.0   1.47   0.0  0.403  7.135  13.9  7.6534   3.0  402.0   \n",
      "12    0.09378  12.5   7.87   0.0  0.524  5.889  39.0  5.4509   5.0  311.0   \n",
      "129   0.88125   0.0  21.89   0.0  0.624  5.637  94.7  1.9799   4.0  437.0   \n",
      "194   0.01439  60.0   2.93   0.0  0.401  6.604  18.8  6.2196   1.0  265.0   \n",
      "320   0.16760   0.0   7.38   0.0  0.493  6.426  52.3  4.5404   5.0  287.0   \n",
      "\n",
      "     PTRATIO       B  LSTAT  \n",
      "463     20.2  393.82  10.29  \n",
      "152     14.7  343.28  12.12  \n",
      "291     19.2  396.90   3.56  \n",
      "183     17.8  396.90   5.68  \n",
      "384     20.2  285.83  30.63  \n",
      "..       ...     ...    ...  \n",
      "200     17.0  384.30   4.45  \n",
      "12      15.2  390.50  15.71  \n",
      "129     21.2  396.90  18.34  \n",
      "194     15.6  376.70   4.38  \n",
      "320     19.6  396.90   7.20  \n",
      "\n",
      "[102 rows x 13 columns]\n"
     ]
    }
   ],
   "source": [
    "print(X_test)"
   ]
  },
  {
   "cell_type": "code",
   "execution_count": 27,
   "id": "ba9c1306",
   "metadata": {},
   "outputs": [],
   "source": [
    "sc = StandardScaler()\n",
    "\n",
    "X_train = sc.fit_transform(X_train)\n",
    "X_test = sc.transform(X_test)"
   ]
  },
  {
   "cell_type": "code",
   "execution_count": 28,
   "id": "122d27d1",
   "metadata": {},
   "outputs": [
    {
     "name": "stdout",
     "output_type": "stream",
     "text": [
      "[[-0.37743861 -0.47456976 -0.5837312  ...  0.52359086  0.45391267\n",
      "  -0.83410575]\n",
      " [-0.38918729 -0.47456976 -0.78968387 ...  0.33155209  0.45391267\n",
      "  -0.56340806]\n",
      " [-0.39619249  3.16608882 -1.39883965 ... -0.14854484 -0.13442027\n",
      "   0.02927739]\n",
      " ...\n",
      " [-0.3783975  -0.47456976 -0.24869553 ...  0.33155209  0.45391267\n",
      "  -0.10179728]\n",
      " [-0.3258116  -0.47456976 -0.47350302 ...  1.19572656  0.44029484\n",
      "  -0.6061498 ]\n",
      " [-0.13206441 -0.47456976  1.18572129 ... -1.82888409 -0.60795914\n",
      "  -0.23144722]]\n"
     ]
    }
   ],
   "source": [
    "print(X_train)"
   ]
  },
  {
   "cell_type": "code",
   "execution_count": 29,
   "id": "194bbfa4",
   "metadata": {},
   "outputs": [
    {
     "name": "stdout",
     "output_type": "stream",
     "text": [
      "[[ 0.27566504 -0.47456976  0.97106639 ...  0.81164902  0.42114476\n",
      "  -0.34684992]\n",
      " [-0.26800163 -0.47456976  1.18572129 ... -1.82888409 -0.11654687\n",
      "  -0.08612531]\n",
      " [-0.38933552  3.16608882 -0.93617133 ...  0.33155209  0.45391267\n",
      "  -1.3056896 ]\n",
      " ...\n",
      " [-0.2964127  -0.47456976  1.52075696 ...  1.29174595  0.45391267\n",
      "   0.80005342]\n",
      " [-0.39680164  2.25592418 -1.22914625 ... -1.39679686  0.23900624\n",
      "  -1.18886218]\n",
      " [-0.37905876 -0.47456976 -0.5837312  ...  0.52359086  0.45391267\n",
      "  -0.78708983]]\n"
     ]
    }
   ],
   "source": [
    "print(X_test)"
   ]
  },
  {
   "cell_type": "code",
   "execution_count": 30,
   "id": "13084fdf",
   "metadata": {},
   "outputs": [
    {
     "name": "stdout",
     "output_type": "stream",
     "text": [
      "(506,) (404,) (102,)\n"
     ]
    }
   ],
   "source": [
    "print(Y.shape, Y_train.shape, Y_test.shape)"
   ]
  },
  {
   "cell_type": "code",
   "execution_count": 31,
   "id": "d9693669",
   "metadata": {},
   "outputs": [
    {
     "name": "stdout",
     "output_type": "stream",
     "text": [
      "0      24.0\n",
      "1      21.6\n",
      "2      34.7\n",
      "3      33.4\n",
      "4      36.2\n",
      "       ... \n",
      "501    22.4\n",
      "502    20.6\n",
      "503    23.9\n",
      "504    22.0\n",
      "505    11.9\n",
      "Name: price, Length: 506, dtype: float64\n"
     ]
    }
   ],
   "source": [
    "print(Y)"
   ]
  },
  {
   "cell_type": "code",
   "execution_count": 32,
   "id": "dfabf45f",
   "metadata": {},
   "outputs": [
    {
     "name": "stdout",
     "output_type": "stream",
     "text": [
      "321    23.1\n",
      "37     21.0\n",
      "286    20.1\n",
      "2      34.7\n",
      "25     13.9\n",
      "       ... \n",
      "22     15.2\n",
      "72     22.8\n",
      "493    21.8\n",
      "15     19.9\n",
      "168    23.8\n",
      "Name: price, Length: 404, dtype: float64\n"
     ]
    }
   ],
   "source": [
    "print(Y_train)"
   ]
  },
  {
   "cell_type": "code",
   "execution_count": 33,
   "id": "50e00785",
   "metadata": {},
   "outputs": [
    {
     "name": "stdout",
     "output_type": "stream",
     "text": [
      "463    20.2\n",
      "152    15.3\n",
      "291    37.3\n",
      "183    32.5\n",
      "384     8.8\n",
      "       ... \n",
      "200    32.9\n",
      "12     21.7\n",
      "129    14.3\n",
      "194    29.1\n",
      "320    23.8\n",
      "Name: price, Length: 102, dtype: float64\n"
     ]
    }
   ],
   "source": [
    "print(Y_test)"
   ]
  },
  {
   "cell_type": "markdown",
   "id": "398454f9",
   "metadata": {},
   "source": [
    "# Model Training"
   ]
  },
  {
   "cell_type": "markdown",
   "id": "9a62ea59",
   "metadata": {},
   "source": [
    "Model Training ---> XGBoost Regressor"
   ]
  },
  {
   "cell_type": "code",
   "execution_count": 34,
   "id": "9eacb230",
   "metadata": {},
   "outputs": [],
   "source": [
    "model = XGBRegressor()"
   ]
  },
  {
   "cell_type": "code",
   "execution_count": 35,
   "id": "e6ffb065",
   "metadata": {},
   "outputs": [
    {
     "data": {
      "text/plain": [
       "XGBRegressor(base_score=0.5, booster='gbtree', callbacks=None,\n",
       "             colsample_bylevel=1, colsample_bynode=1, colsample_bytree=1,\n",
       "             early_stopping_rounds=None, enable_categorical=False,\n",
       "             eval_metric=None, gamma=0, gpu_id=-1, grow_policy='depthwise',\n",
       "             importance_type=None, interaction_constraints='',\n",
       "             learning_rate=0.300000012, max_bin=256, max_cat_to_onehot=4,\n",
       "             max_delta_step=0, max_depth=6, max_leaves=0, min_child_weight=1,\n",
       "             missing=nan, monotone_constraints='()', n_estimators=100, n_jobs=0,\n",
       "             num_parallel_tree=1, predictor='auto', random_state=0, reg_alpha=0,\n",
       "             reg_lambda=1, ...)"
      ]
     },
     "execution_count": 35,
     "metadata": {},
     "output_type": "execute_result"
    }
   ],
   "source": [
    "model.fit(X_train, Y_train)"
   ]
  },
  {
   "cell_type": "markdown",
   "id": "5a98f626",
   "metadata": {},
   "source": [
    "Evaluation\n",
    "1. R Squared Error\n",
    "2. Mean Absolute Error"
   ]
  },
  {
   "cell_type": "markdown",
   "id": "82d18e8f",
   "metadata": {},
   "source": [
    "Prediction on training data"
   ]
  },
  {
   "cell_type": "code",
   "execution_count": 36,
   "id": "00740f0e",
   "metadata": {},
   "outputs": [],
   "source": [
    "training_data_prediction = model.predict(X_train)"
   ]
  },
  {
   "cell_type": "code",
   "execution_count": 37,
   "id": "cc1c267f",
   "metadata": {},
   "outputs": [
    {
     "name": "stdout",
     "output_type": "stream",
     "text": [
      "[23.147501  20.99463   20.090284  34.69053   13.903663  13.510157\n",
      " 21.998634  15.1940975 10.899711  22.709627  13.832816   5.592794\n",
      " 29.810236  49.99096   34.89215   20.607384  23.351097  19.23555\n",
      " 32.695698  19.641418  26.991022   8.401829  46.00729   21.708961\n",
      " 27.062933  19.321356  19.288303  24.809872  22.61626   31.70493\n",
      " 18.542515   8.697379  17.395294  23.700663  13.304856  10.492197\n",
      " 12.688369  25.016556  19.67495   14.902088  24.193798  25.007143\n",
      " 14.900281  16.995798  15.6009035 12.699232  24.51537   14.999952\n",
      " 50.00104   17.525454  21.184624  31.998049  15.613355  22.89754\n",
      " 19.325378  18.717896  23.301125  37.222923  30.09486   33.102703\n",
      " 21.00072   49.999332  13.405827   5.0280113 16.492886   8.405072\n",
      " 28.64328   19.499939  20.586452  45.402164  39.79833   33.407326\n",
      " 19.83506   33.406372  25.271482  50.001534  12.521657  17.457413\n",
      " 18.61758   22.602625  50.002117  23.801117  23.317268  23.087355\n",
      " 41.700035  16.119293  31.620516  36.069206   7.0022025 20.3827\n",
      " 19.996452  11.986318  25.023014  49.970123  37.881588  23.123034\n",
      " 41.292133  17.596548  16.305374  30.034231  22.860699  19.810343\n",
      " 17.098848  18.898268  18.96717   22.606049  23.141363  33.183487\n",
      " 15.010934  11.693824  18.78828   20.80524   17.99983   19.68991\n",
      " 50.00332   17.207317  16.404053  17.520426  14.593481  33.110855\n",
      " 14.508482  43.821655  34.939106  20.381636  14.655634   8.094332\n",
      " 11.7662115 11.846876  18.69599    6.314154  23.983706  13.084503\n",
      " 19.603905  49.989143  22.300608  18.930315  31.197134  20.69645\n",
      " 32.21111   36.15102   14.240763  15.698188  49.99381   20.423601\n",
      " 16.184978  13.409128  50.01321   31.602146  12.271495  19.219482\n",
      " 29.794909  31.536846  22.798779  10.189648  24.08648   23.710463\n",
      " 21.991894  13.802495  28.420696  33.181534  13.105958  18.988266\n",
      " 26.576572  36.967175  30.794083  22.77071   10.201246  22.213818\n",
      " 24.483162  36.178806  23.09194   20.097307  19.470194  10.786644\n",
      " 22.671095  19.502405  20.109184   9.611871  42.799637  48.794792\n",
      " 13.097208  20.28583   24.793974  14.110478  21.701134  22.217012\n",
      " 33.003544  21.11041   25.00658   19.122992  32.398567  13.605098\n",
      " 15.1145315 23.088867  27.474783  19.364998  26.487135  27.499458\n",
      " 28.697094  21.21718   18.703201  26.775208  14.010719  21.692347\n",
      " 18.372562  43.11582   29.081839  20.289959  23.680176  18.308306\n",
      " 17.204844  18.320065  24.393475  26.396057  19.094141  13.3019905\n",
      " 22.15311   22.185797   8.516214  18.894428  21.792608  19.331121\n",
      " 18.197924   7.5006843 22.406403  20.004215  14.412416  22.503702\n",
      " 28.53306   21.591028  13.810223  20.497831  21.898977  23.104464\n",
      " 49.99585   16.242056  30.294561  50.001595  17.771557  19.053703\n",
      " 10.399217  20.378187  16.49973   17.183376  16.70228   19.495337\n",
      " 30.507633  28.98067   19.528809  23.148346  24.391027   9.521643\n",
      " 23.886024  49.995125  21.167099  22.597813  19.965279  13.4072275\n",
      " 19.948694  17.087479  12.738807  23.00453   15.222122  20.604322\n",
      " 26.207253  18.09243   24.090246  14.105     21.689667  20.08065\n",
      " 25.010437  27.874954  22.92366   18.509727  22.190847  24.004797\n",
      " 14.788686  19.89675   24.39812   17.796036  24.556297  31.970308\n",
      " 17.774675  23.356768  16.134794  13.009915  10.98219   24.28906\n",
      " 15.56895   35.209793  19.605724  42.301712   8.797891  24.400295\n",
      " 14.086652  15.408639  17.301126  22.127419  23.09363   44.79579\n",
      " 17.776684  31.50014   22.835577  16.888603  23.925127  12.097476\n",
      " 38.685944  21.388391  15.98878   23.912495  11.909485  24.960499\n",
      "  7.2018585 24.696215  18.201897  22.489008  23.03332   24.260433\n",
      " 17.101519  17.805563  13.493165  27.105328  13.311978  21.913465\n",
      " 20.00738   15.405392  16.595737  22.301016  24.708412  21.422579\n",
      " 22.878702  29.606575  21.877811  19.900253  29.605219  23.407152\n",
      " 13.781474  24.454706  11.897682   7.2203646 20.521074   9.725295\n",
      " 48.30087   25.19501   11.688618  17.404732  14.480284  28.618876\n",
      " 19.397131  22.468653   7.0117908 20.602013  22.970919  19.719397\n",
      " 23.693787  25.048244  27.977154  13.393578  14.513882  20.309145\n",
      " 19.306028  24.095829  14.894031  26.382381  33.298378  23.61644\n",
      " 24.591206  18.514652  20.900269  10.406055  23.303423  13.092017\n",
      " 24.675085  22.582184  20.502762  16.820635  10.220605  33.81239\n",
      " 18.608067  49.999187  23.775583  23.909609  21.192276  18.805798\n",
      "  8.502987  21.50807   23.204473  21.012218  16.611097  28.100965\n",
      " 21.193024  28.419638  14.294126  49.99958   30.988504  24.991066\n",
      " 21.433628  18.975573  28.991457  15.206939  22.817244  21.765755\n",
      " 19.915497  23.7961   ]\n"
     ]
    }
   ],
   "source": [
    "print(training_data_prediction)"
   ]
  },
  {
   "cell_type": "code",
   "execution_count": 38,
   "id": "c1adb98b",
   "metadata": {},
   "outputs": [
    {
     "name": "stdout",
     "output_type": "stream",
     "text": [
      "R squared error: 0.9999948236320982\n",
      "Mean Absolute Error: 0.0145848437110976\n"
     ]
    }
   ],
   "source": [
    "score_1 = metrics.r2_score(Y_train, training_data_prediction)\n",
    "\n",
    "score_2 = metrics.mean_absolute_error(Y_train, training_data_prediction)\n",
    "\n",
    "print(f\"R squared error: {score_1}\")\n",
    "print(f\"Mean Absolute Error: {score_2}\")"
   ]
  },
  {
   "cell_type": "markdown",
   "id": "ed63a247",
   "metadata": {},
   "source": [
    "Visualizing the actual Prices and predicted prices"
   ]
  },
  {
   "cell_type": "code",
   "execution_count": 39,
   "id": "ceff36e5",
   "metadata": {},
   "outputs": [
    {
     "data": {
      "image/png": "[encoded data removed]",
      "text/plain": [
       "<Figure size 432x288 with 1 Axes>"
      ]
     },
     "metadata": {
      "needs_background": "light"
     },
     "output_type": "display_data"
    }
   ],
   "source": [
    "plt.scatter(Y_train, training_data_prediction)\n",
    "plt.xlabel(\"Actual Prices\")\n",
    "plt.ylabel(\"Predicted Prices\")\n",
    "plt.title(\"Actual Price vs Predicted Price\")\n",
    "plt.show()"
   ]
  },
  {
   "cell_type": "markdown",
   "id": "2aea5ebc",
   "metadata": {},
   "source": [
    "Prediction on test data"
   ]
  },
  {
   "cell_type": "code",
   "execution_count": 40,
   "id": "a5d911b3",
   "metadata": {},
   "outputs": [],
   "source": [
    "test_data_prediction = model.predict(X_test)"
   ]
  },
  {
   "cell_type": "code",
   "execution_count": 41,
   "id": "99579e03",
   "metadata": {},
   "outputs": [
    {
     "name": "stdout",
     "output_type": "stream",
     "text": [
      "[20.288406  20.60247   30.9758    29.910797   8.624953  14.235525\n",
      " 23.523052  29.730324  31.97293   22.015892  27.946804  24.034412\n",
      " 20.771402  21.849985  12.024127  22.074675  18.487509  11.052485\n",
      "  8.141267  15.730722  23.163914  20.233883  35.700928  19.041637\n",
      " 15.129744  19.334904  47.067314  30.426474  32.729023  17.345776\n",
      " 17.889462  19.40687   30.769133  25.431686  12.05332   17.900238\n",
      " 11.031679  21.109531  20.64321   21.982754  25.016281  12.648555\n",
      " 31.042107   7.106914  18.685764  14.380013  34.902393  16.130005\n",
      " 32.98537   10.950912  27.335018  29.399937   7.0065055 35.398712\n",
      " 22.978228  18.582758  19.224293  20.003431  15.341814  22.38517\n",
      " 19.077105  21.955967  18.91404   32.77595   32.76772   24.36317\n",
      " 48.262913  23.385014  10.551914  22.664684  14.671612   8.881822\n",
      " 16.700302  17.221045  26.204681  26.826794  21.590458  21.61216\n",
      " 19.662537  23.533224  33.25156   17.105299  19.517323  29.344427\n",
      " 48.885273  35.723255  18.257914  24.461905  27.235567  21.319864\n",
      " 21.661198  20.753967  11.241813  36.715706  43.27121    9.123582\n",
      " 43.117516  34.55289   22.041529  16.860765  29.876814  23.332623 ]\n"
     ]
    }
   ],
   "source": [
    "print(test_data_prediction)"
   ]
  },
  {
   "cell_type": "code",
   "execution_count": 42,
   "id": "f2dc3412",
   "metadata": {},
   "outputs": [
    {
     "name": "stdout",
     "output_type": "stream",
     "text": [
      "R squared error: 0.8757242820183986\n",
      "Mean Absolute Error: 2.232154156179989\n"
     ]
    }
   ],
   "source": [
    "score_1 = metrics.r2_score(Y_test, test_data_prediction)\n",
    "\n",
    "score_2 = metrics.mean_absolute_error(Y_test, test_data_prediction)\n",
    "\n",
    "print(f\"R squared error: {score_1}\")\n",
    "print(f\"Mean Absolute Error: {score_2}\")"
   ]
  },
  {
   "cell_type": "code",
   "execution_count": 43,
   "id": "bdb8f4c2",
   "metadata": {},
   "outputs": [
    {
     "data": {
      "image/png": "[encoded data removed]",
      "text/plain": [
       "<Figure size 432x288 with 1 Axes>"
      ]
     },
     "metadata": {
      "needs_background": "light"
     },
     "output_type": "display_data"
    }
   ],
   "source": [
    "plt.scatter(Y_test, test_data_prediction)\n",
    "plt.xlabel(\"Actual Prices\")\n",
    "plt.ylabel(\"Predicted Prices\")\n",
    "plt.title(\"Actual Price vs Predicted Price\")\n",
    "plt.show()"
   ]
  },
  {
   "cell_type": "markdown",
   "id": "3c359c73",
   "metadata": {},
   "source": [
    "# Model Training"
   ]
  },
  {
   "cell_type": "markdown",
   "id": "9a62ea59",
   "metadata": {},
   "source": [
    "Model Training ---> Linear Regression"
   ]
  },
  {
   "cell_type": "code",
   "execution_count": 44,
   "id": "9eacb230",
   "metadata": {},
   "outputs": [],
   "source": [
    "model_LinearRegression = LinearRegression()"
   ]
  },
  {
   "cell_type": "code",
   "execution_count": 45,
   "id": "e6ffb065",
   "metadata": {},
   "outputs": [
    {
     "data": {
      "text/plain": [
       "LinearRegression()"
      ]
     },
     "execution_count": 45,
     "metadata": {},
     "output_type": "execute_result"
    }
   ],
   "source": [
    "model_LinearRegression.fit(X_train, Y_train)"
   ]
  },
  {
   "cell_type": "markdown",
   "id": "5a98f626",
   "metadata": {},
   "source": [
    "Evaluation\n",
    "1. R Squared Error\n",
    "2. Mean Absolute Error"
   ]
  },
  {
   "cell_type": "markdown",
   "id": "82d18e8f",
   "metadata": {},
   "source": [
    "Prediction on training data"
   ]
  },
  {
   "cell_type": "code",
   "execution_count": 46,
   "id": "00740f0e",
   "metadata": {},
   "outputs": [],
   "source": [
    "training_data_prediction = model_LinearRegression.predict(X_train)"
   ]
  },
  {
   "cell_type": "code",
   "execution_count": 47,
   "id": "cc1c267f",
   "metadata": {},
   "outputs": [
    {
     "name": "stdout",
     "output_type": "stream",
     "text": [
      "[25.01156658 23.20086342 19.63206629 30.79723661 13.29598163 12.35655178\n",
      " 21.17619058 11.52105413 13.48284934 23.29619143 16.67181245 11.9640623\n",
      " 32.53526883 25.38737924 29.80188665 19.51269487 24.14966495 24.10079632\n",
      " 30.6933436  19.14366521 33.53309203  3.93459665 41.11203484 24.48533152\n",
      " 20.09948308 23.54618062 21.50057915 25.02443747 22.39275602 33.67942244\n",
      " 25.49286716  8.07877994 17.45164918 10.02711469 20.30483806 12.97802751\n",
      " 18.36662544 25.4320083  14.00655745 17.89557148 24.77620977 28.90131112\n",
      " 17.27439484 23.1865498  12.62489379 11.32274928 27.4978866  19.49269776\n",
      " 44.80229099 16.9529603  22.44602306 33.66680303 20.2706101  20.70205114\n",
      " 20.98558754 21.63228494 27.05322369 33.11940621 25.61757987 32.73314444\n",
      " 20.91920151 41.11899411 15.32086807  8.42394611 22.84480968 13.72210624\n",
      " 28.60744627 17.09291577 26.76454185 39.14699941 34.90240572 35.55989745\n",
      " 21.98217997 28.96612576 25.11129326 42.52704888 19.53053513 22.63970213\n",
      " 17.14416523 27.37214688 33.68385271 25.77228001 26.24424086 23.51671109\n",
      " 38.37874691 21.05215588 32.77319902 33.03217239 -4.99084337 19.70869674\n",
      " 17.53251776 11.63087343 24.37500382 39.99098154 34.33616475 16.55822485\n",
      " 33.62539378 16.78523177 11.71881496 30.24766044 23.52649475 22.71964065\n",
      " 19.89998196 14.94058956 24.0411572  27.01081567 17.5097719  32.38533538\n",
      " 25.53625294 13.86453233 21.05881776 19.05114816 18.5170317  23.34986869\n",
      " 24.71339021 16.1623271  19.05863819 16.98607725  8.72535475 35.06123857\n",
      " 13.86563411 35.03610888 34.61633915 20.3669489  19.44030688  2.87170863\n",
      " 11.30196694  8.97050229 18.14348669 10.55691066 25.5732119  15.87329849\n",
      " 18.90740876 35.93301204 26.82695358 22.28741025 28.53359756 26.00168528\n",
      " 31.18993167 27.97440868 18.41724093 13.5993944  42.72592178 23.0210958\n",
      " 14.78973798 12.84726573 37.44250884 33.2039081  13.30830559 19.72666214\n",
      " 25.65731817 33.17026674 28.9361232   6.55637493 25.11327024 27.43071798\n",
      " 27.75911658  0.74222258 30.7220372  35.85937101 13.5334666  21.32097573\n",
      " 27.97387938 30.88962744 30.90511804 26.80570738 16.9940276  22.35736411\n",
      " 20.465438   28.27376296 25.09545633 21.49008155 20.29604079 11.41742797\n",
      " 25.18261621 18.54487211 24.06079842 13.99965683 29.78355432 41.5929612\n",
      " 20.62012545 23.8276389  25.93255817 18.01023833 21.37048112 26.05289226\n",
      " 23.79104828 22.02893135 28.54411967 19.977294   36.34457447 13.37592811\n",
      " 17.67904907 24.39679819 19.3946807  17.5603918  25.58117479 15.28929542\n",
      " 25.7500299  23.0438057  20.98327844 34.04641966 12.81688819 22.92942397\n",
      " 15.46674891 37.85194706 30.04222072 22.31900246 27.43040153 20.58228157\n",
      " 15.15768275 19.25579532 23.59829654 23.13046816 17.03879912 15.94418453\n",
      " 19.32219776 24.33797611 16.68132094 19.52805566 21.26940197 22.1534195\n",
      " 14.09496175 12.40527507 23.20831574 22.42471213  9.12140944 29.25621886\n",
      " 32.80831465 25.86201139 11.62137768 19.84150339 38.09467711 11.05373588\n",
      " 26.90663588 20.85724739 32.6841778  43.80160701 15.95271399 16.97301985\n",
      "  6.37739499 20.67384559 11.84200487 13.53899427 20.71970632 20.21106805\n",
      " 30.57739928 32.47938573 17.80155692 22.63976857 28.40687675 12.35495953\n",
      " 27.54333876 35.64415443 21.15197831 24.49399672 20.32459815 12.26716982\n",
      " 18.97792609 17.59992415 12.15559499 30.4916216  19.66645327 22.19445896\n",
      " 24.06391579 16.82156028 29.33635651 15.28965592 20.40291757 15.6116252\n",
      " 22.63833185 31.16189781 28.50860971 13.63663087 24.3658225  30.62169482\n",
      " 14.54609203 20.4321128  24.18192711 20.5360713  29.7594893  33.49644656\n",
      "  9.83332265 28.590124   18.92892822 17.33759179 13.61826149 29.47884134\n",
      " 12.41233698 35.64956141 21.26856716 36.8169141   5.55950912 23.81982508\n",
      " 17.9324942  15.07510072 15.42245848 26.97777726 20.41903209 38.6114795\n",
      " 22.71069268 31.33014733 29.01673396 20.61052353 27.83718818 18.44738043\n",
      " 35.98383922 21.83503448 18.85872095 27.14655071 22.29402596 25.17153403\n",
      "  8.11155344 24.9463064  18.47112082 22.16006626 23.71682122 20.18377773\n",
      " 18.95621158 17.706285   13.30710491 27.53082357 13.26599659 24.01661292\n",
      " 22.90437015 18.39013246 15.62183187 27.36333968 24.47958466 24.96000871\n",
      " 25.06397898 24.94965861 16.02454309 19.36627488 24.94482632 23.60194408\n",
      "  6.06740501 21.45298844  8.45417985 18.04937226 20.32632213 10.18010598\n",
      " 37.40231013 26.87275677 15.75232136 15.41749288 17.56011189 28.47765873\n",
      " 17.40779186 17.78981164  7.6224643  21.52693835 19.80693491 21.42674362\n",
      " 28.42874263 27.76910898 28.28672394 15.90099006 18.26898963 21.80347011\n",
      " 17.42521739 20.86504198 14.66170284 28.7645307  36.33961093 31.14991214\n",
      " 24.58854088 19.72379336 21.58459359 14.47555161 21.90858257 14.26024874\n",
      " 22.8270719  19.74198004 24.37195645 21.15455018 15.5329141  35.41735828\n",
      " 19.10619316 40.7099519  22.96645323 25.70676803 23.60985    19.89227806\n",
      "  7.237513   25.52236921 27.10218785 21.37080002 18.2333185  24.94737833\n",
      " 21.35608367 28.75315605 16.69479879 41.41493742 35.08212792 23.33779405\n",
      " 23.83343182 13.86646948 31.85846661 15.79597922 24.26175987 20.67021876\n",
      " 19.39905675 26.51544346]\n"
     ]
    }
   ],
   "source": [
    "print(training_data_prediction)"
   ]
  },
  {
   "cell_type": "code",
   "execution_count": 48,
   "id": "c1adb98b",
   "metadata": {},
   "outputs": [
    {
     "name": "stdout",
     "output_type": "stream",
     "text": [
      "R squared error: 0.7285831776605591\n",
      "Mean Absolute Error: 3.3844575399167964\n"
     ]
    }
   ],
   "source": [
    "score_1 = metrics.r2_score(Y_train, training_data_prediction)\n",
    "\n",
    "score_2 = metrics.mean_absolute_error(Y_train, training_data_prediction)\n",
    "\n",
    "print(f\"R squared error: {score_1}\")\n",
    "print(f\"Mean Absolute Error: {score_2}\")"
   ]
  },
  {
   "cell_type": "markdown",
   "id": "ed63a247",
   "metadata": {},
   "source": [
    "Visualizing the actual Prices and predicted prices"
   ]
  },
  {
   "cell_type": "code",
   "execution_count": 49,
   "id": "ceff36e5",
   "metadata": {},
   "outputs": [
    {
     "data": {
      "image/png": "[encoded data removed]",
      "text/plain": [
       "<Figure size 432x288 with 1 Axes>"
      ]
     },
     "metadata": {
      "needs_background": "light"
     },
     "output_type": "display_data"
    }
   ],
   "source": [
    "plt.scatter(Y_train, training_data_prediction)\n",
    "plt.xlabel(\"Actual Prices\")\n",
    "plt.ylabel(\"Predicted Prices\")\n",
    "plt.title(\"Actual Price vs Predicted Price\")\n",
    "plt.show()"
   ]
  },
  {
   "cell_type": "markdown",
   "id": "2aea5ebc",
   "metadata": {},
   "source": [
    "Prediction on test data"
   ]
  },
  {
   "cell_type": "code",
   "execution_count": 50,
   "id": "a5d911b3",
   "metadata": {},
   "outputs": [],
   "source": [
    "test_data_prediction = model_LinearRegression.predict(X_test)"
   ]
  },
  {
   "cell_type": "code",
   "execution_count": 51,
   "id": "b62ed0ce",
   "metadata": {},
   "outputs": [
    {
     "name": "stdout",
     "output_type": "stream",
     "text": [
      "[23.01506153 21.2115869  33.71590384 31.56542369  3.1826268   3.15381954\n",
      " 27.40305304 22.2126176  14.86506114 21.34105453 30.95942941 26.70065029\n",
      " 21.12624382 18.37282564 17.64315354 25.38194186 24.42970445 13.36957057\n",
      "  8.66686786 18.57490534 21.73966467 20.34270529 36.5461105  20.59627495\n",
      " 19.87979627 15.75766967 37.11632999 34.85897895 30.83458635 23.23441285\n",
      " 18.68278505 20.749546   31.84560076 30.20214207 13.3861702  15.87078398\n",
      " 13.70766096 23.74163998 25.95135088 23.18325878 28.99906539 12.50341936\n",
      " 31.08347911  6.39401895 23.71801218 20.61523929 33.15362417 19.21862493\n",
      " 35.89603081  0.82365329 31.90288611 31.69640543  6.58849712 34.62762996\n",
      " 20.41162545 19.69277608 19.53445865 18.58689088 15.81420496 22.98764309\n",
      " 19.65947045 16.36377019 18.48783369 32.76568172 35.49022568 24.58349631\n",
      " 41.5854766  32.94818456 14.60990256 27.43178268  8.04470074  5.61185652\n",
      " 22.21428332 18.72817007 31.02824788 26.04494485 24.60357003 24.84231113\n",
      " 25.38796252 24.87762205 33.71343923 19.72606026 20.60046055 27.82692882\n",
      " 38.0055624  37.24265207 22.16841364 29.6160177  31.07303315 17.93399181\n",
      " 20.87524555 19.48170453 18.61409692 37.13055111 39.81659125  9.1811861\n",
      " 35.30202671 30.28664671 21.0820992  13.65467682 31.38696603 24.99174874]\n"
     ]
    }
   ],
   "source": [
    "print(test_data_prediction)"
   ]
  },
  {
   "cell_type": "code",
   "execution_count": 52,
   "id": "f2dc3412",
   "metadata": {},
   "outputs": [
    {
     "name": "stdout",
     "output_type": "stream",
     "text": [
      "R squared error: 0.7789207451814417\n",
      "Mean Absolute Error: 3.113043746893428\n"
     ]
    }
   ],
   "source": [
    "score_1 = metrics.r2_score(Y_test, test_data_prediction)\n",
    "\n",
    "score_2 = metrics.mean_absolute_error(Y_test, test_data_prediction)\n",
    "\n",
    "print(f\"R squared error: {score_1}\")\n",
    "print(f\"Mean Absolute Error: {score_2}\")"
   ]
  },
  {
   "cell_type": "code",
   "execution_count": 53,
   "id": "2f5c20d3",
   "metadata": {},
   "outputs": [
    {
     "data": {
      "image/png": "[encoded data removed]",
      "text/plain": [
       "<Figure size 432x288 with 1 Axes>"
      ]
     },
     "metadata": {
      "needs_background": "light"
     },
     "output_type": "display_data"
    }
   ],
   "source": [
    "plt.scatter(Y_test, test_data_prediction)\n",
    "plt.xlabel(\"Actual Prices\")\n",
    "plt.ylabel(\"Predicted Prices\")\n",
    "plt.title(\"Actual Price vs Predicted Price\")\n",
    "plt.show()"
   ]
  },
  {
   "cell_type": "markdown",
   "id": "398454f9",
   "metadata": {},
   "source": [
    "# Model Training"
   ]
  },
  {
   "cell_type": "markdown",
   "id": "9a62ea59",
   "metadata": {},
   "source": [
    "Model Training ---> Polynomial Regression"
   ]
  },
  {
   "cell_type": "code",
   "execution_count": 54,
   "id": "9eacb230",
   "metadata": {},
   "outputs": [],
   "source": [
    "poly_reg = PolynomialFeatures(degree = 2)\n",
    "\n",
    "X_poly = poly_reg.fit_transform(X_train)\n",
    "\n",
    "model_LinearRegression = LinearRegression()"
   ]
  },
  {
   "cell_type": "code",
   "execution_count": 55,
   "id": "e6ffb065",
   "metadata": {},
   "outputs": [
    {
     "data": {
      "text/plain": [
       "LinearRegression()"
      ]
     },
     "execution_count": 55,
     "metadata": {},
     "output_type": "execute_result"
    }
   ],
   "source": [
    "model_LinearRegression.fit(X_poly, Y_train)"
   ]
  },
  {
   "cell_type": "markdown",
   "id": "5a98f626",
   "metadata": {},
   "source": [
    "Evaluation\n",
    "1. R Squared Error\n",
    "2. Mean Absolute Error"
   ]
  },
  {
   "cell_type": "markdown",
   "id": "82d18e8f",
   "metadata": {},
   "source": [
    "Prediction on training data"
   ]
  },
  {
   "cell_type": "code",
   "execution_count": 56,
   "id": "00740f0e",
   "metadata": {},
   "outputs": [],
   "source": [
    "training_data_prediction = model_LinearRegression.predict(X_poly)"
   ]
  },
  {
   "cell_type": "code",
   "execution_count": 57,
   "id": "cc1c267f",
   "metadata": {},
   "outputs": [
    {
     "name": "stdout",
     "output_type": "stream",
     "text": [
      "[24.96472168 22.31469727 20.09094238 33.40820312 14.85827637 11.56359863\n",
      " 21.84399414 14.04699707 11.03845215 22.32128906 18.97094727  5.59008789\n",
      " 31.27709961 33.09924316 32.97302246 19.88513184 22.11401367 20.16137695\n",
      " 30.86279297 23.71130371 32.67858887  5.90087891 44.85888672 20.35412598\n",
      " 18.33044434 18.25524902 17.85974121 23.13391113 22.67614746 35.11682129\n",
      " 22.03540039  7.8404541  15.77893066 25.42590332 13.77478027  7.2722168\n",
      " 16.71508789 23.70141602 16.55725098 14.9954834  25.05285645 28.95483398\n",
      " 16.41113281 14.94152832 14.30224609 15.14111328 26.7331543  20.65283203\n",
      " 50.25415039 16.90197754 22.27124023 32.50756836 15.68920898 21.63586426\n",
      " 19.80664062 20.55175781 23.90490723 36.91442871 30.02648926 32.87268066\n",
      " 19.37304688 51.72729492 13.25891113  2.04675293 15.59912109  9.07324219\n",
      " 27.85058594 18.04162598 21.92346191 45.10705566 40.66955566 37.94909668\n",
      " 18.66625977 32.84020996 24.03173828 49.07092285 15.73120117 19.30151367\n",
      " 22.9519043  25.73571777 48.03979492 22.4486084  28.59423828 19.97192383\n",
      " 44.47485352 21.46154785 33.53540039 33.73132324  9.61108398 18.88903809\n",
      " 18.69897461 11.83520508 24.18530273 46.89599609 36.93725586 24.73754883\n",
      " 36.62841797 15.94494629 16.12133789 27.75830078 22.10095215 20.5703125\n",
      " 17.3314209  18.62585449 22.77258301 24.70800781 16.92907715 34.42504883\n",
      " 21.02148438 10.79968262 16.09729004 23.12536621 18.09399414 23.09387207\n",
      " 43.82580566 17.37719727 17.54968262 18.97473145 14.11694336 32.14599609\n",
      " 13.84143066 42.75341797 35.6862793  19.33532715 17.21472168  8.12182617\n",
      "  9.18945312 12.5534668  16.89233398 11.1048584  23.26965332 10.33312988\n",
      " 15.78674316 45.03076172 25.86608887 20.80395508 29.5579834  23.36450195\n",
      " 32.70996094 28.61779785 18.51000977 15.05554199 48.9041748  21.94067383\n",
      " 14.87268066  9.78735352 47.41381836 30.61608887 12.26635742 20.20166016\n",
      " 26.34863281 34.15588379 22.73779297  9.30578613 25.92675781 24.2286377\n",
      " 25.00512695 12.87585449 29.91088867 32.42980957 11.8704834  21.10009766\n",
      " 28.32141113 31.10290527 28.32617188 24.1373291  12.42175293 24.57580566\n",
      " 23.70410156 33.20825195 24.32226562 20.55871582 20.29406738  9.63720703\n",
      " 22.02429199 18.33374023 19.55566406 11.84509277 44.69311523 47.38146973\n",
      " 16.73071289 19.42285156 24.87817383 17.08959961 19.70068359 24.95959473\n",
      " 33.02587891 20.81396484 23.75036621 17.64147949 33.01416016 12.53833008\n",
      " 17.77380371 22.97216797 19.37182617 17.50366211 26.26550293 30.10961914\n",
      " 26.51647949 22.63623047 15.13891602 28.37878418 14.34802246 20.60754395\n",
      " 17.41882324 38.49353027 27.85620117 19.43981934 27.93078613 17.51123047\n",
      " 18.77148438 18.63183594 24.58447266 22.07995605 13.73474121 13.59655762\n",
      " 23.1184082  21.59411621 15.8770752  20.89160156 19.74121094 19.15270996\n",
      " 19.51818848  9.26855469 19.24975586 21.67370605 18.42016602 24.40759277\n",
      " 30.24414062 21.72644043 18.06799316 19.8125     22.98657227 23.45227051\n",
      " 45.25341797 17.17858887 29.08398438 52.24890137 16.5970459  15.81298828\n",
      "  9.51196289 21.09338379 16.28564453 15.58581543 17.35632324 18.94311523\n",
      " 28.3704834  28.86242676 15.8984375  22.02978516 26.69995117 11.39404297\n",
      " 20.87390137 51.49890137 19.30493164 22.9354248  21.14196777 10.85742188\n",
      " 18.1607666  11.14331055 13.09960938 25.703125   15.01806641 21.74633789\n",
      " 26.6003418  18.37841797 23.22351074 14.34033203 24.06018066 20.90991211\n",
      " 24.25744629 27.81359863 25.08508301 16.94848633 21.67211914 24.97912598\n",
      " 16.56787109 18.78100586 24.61071777 22.44116211 27.77587891 33.99780273\n",
      " 16.09936523 25.82556152 16.39294434 13.89550781 11.70019531 26.58886719\n",
      " 14.83581543 35.17578125 17.9119873  41.89294434  8.13183594 24.43469238\n",
      " 13.1640625  17.30285645 16.29174805 23.46887207 20.04138184 45.05493164\n",
      " 13.38696289 30.55249023 25.8717041  18.62109375 25.0189209  13.54724121\n",
      " 38.75317383 22.32556152 17.37854004 25.35876465 14.66186523 25.69750977\n",
      "  7.95007324 24.62353516 16.83483887 23.68432617 25.22460938 20.90722656\n",
      " 18.78112793 17.17199707 15.21325684 27.05407715 13.37109375 20.19311523\n",
      " 18.84375    11.31774902 15.62365723 22.18518066 25.54736328 22.41186523\n",
      " 22.80761719 29.7947998  22.79125977 18.32043457 26.46557617 22.70544434\n",
      " 10.65673828 21.83398438 16.74841309 12.29943848 19.3651123  11.40454102\n",
      " 43.84265137 24.96582031 15.54870605 16.24951172 17.78967285 30.17932129\n",
      " 18.49230957 18.38549805  9.32067871 23.26416016 21.93640137 21.29223633\n",
      " 25.5111084  27.6607666  28.76855469 14.90283203 14.79870605 21.87426758\n",
      " 19.47680664 23.89379883 13.67553711 26.25891113 35.92797852 28.32788086\n",
      " 27.1472168  18.37353516 20.34387207 12.12280273 19.27832031 14.09057617\n",
      " 23.63269043 20.18933105 21.30212402 16.8536377  10.07714844 35.47558594\n",
      " 18.11865234 48.85949707 20.17553711 23.1237793  21.65515137 19.08300781\n",
      "  8.1854248  18.66210938 21.66064453 21.64538574 19.45336914 26.27893066\n",
      " 21.08544922 27.81872559 16.48852539 48.03796387 32.55566406 24.81994629\n",
      " 21.81787109 15.23815918 32.7755127  15.65161133 21.47753906 21.18591309\n",
      " 18.46484375 24.81542969]\n"
     ]
    }
   ],
   "source": [
    "print(training_data_prediction)"
   ]
  },
  {
   "cell_type": "code",
   "execution_count": 58,
   "id": "c1adb98b",
   "metadata": {},
   "outputs": [
    {
     "name": "stdout",
     "output_type": "stream",
     "text": [
      "R squared error: 0.9295740967497872\n",
      "Mean Absolute Error: 1.776429008257271\n"
     ]
    }
   ],
   "source": [
    "score_1 = metrics.r2_score(Y_train, training_data_prediction)\n",
    "\n",
    "score_2 = metrics.mean_absolute_error(Y_train, training_data_prediction)\n",
    "\n",
    "print(f\"R squared error: {score_1}\")\n",
    "print(f\"Mean Absolute Error: {score_2}\")"
   ]
  },
  {
   "cell_type": "markdown",
   "id": "ed63a247",
   "metadata": {},
   "source": [
    "Visualizing the actual Prices and predicted prices"
   ]
  },
  {
   "cell_type": "code",
   "execution_count": 59,
   "id": "ceff36e5",
   "metadata": {},
   "outputs": [
    {
     "data": {
      "image/png": "[encoded data removed]",
      "text/plain": [
       "<Figure size 432x288 with 1 Axes>"
      ]
     },
     "metadata": {
      "needs_background": "light"
     },
     "output_type": "display_data"
    }
   ],
   "source": [
    "plt.scatter(Y_train, training_data_prediction)\n",
    "plt.xlabel(\"Actual Prices\")\n",
    "plt.ylabel(\"Predicted Prices\")\n",
    "plt.title(\"Actual Price vs Predicted Price\")\n",
    "plt.show()"
   ]
  },
  {
   "cell_type": "markdown",
   "id": "2aea5ebc",
   "metadata": {},
   "source": [
    "Prediction on test data"
   ]
  },
  {
   "cell_type": "code",
   "execution_count": 60,
   "id": "a5d911b3",
   "metadata": {},
   "outputs": [],
   "source": [
    "test_data_prediction = model_LinearRegression.predict(poly_reg.transform(X_test))"
   ]
  },
  {
   "cell_type": "code",
   "execution_count": 61,
   "id": "9db00bef",
   "metadata": {},
   "outputs": [
    {
     "name": "stdout",
     "output_type": "stream",
     "text": [
      "[22.71289062 12.21069336 33.47814941 31.31445312 11.49938965 17.13537598\n",
      " 26.52026367 26.40124512 20.54309082 22.07263184 33.47009277 23.09960938\n",
      " 18.18530273  9.52172852 12.61621094 23.20703125 19.4140625  11.02844238\n",
      "  8.51953125 13.86828613 24.73925781 19.53283691 34.71862793 19.56774902\n",
      " 17.19360352 12.16882324 46.34643555 33.68029785 30.99169922 17.77734375\n",
      " 22.38989258 22.24414062 31.55163574 27.4486084  10.5723877  14.52539062\n",
      " 12.43395996 15.00280762 25.84851074 20.93835449 26.08813477 13.45446777\n",
      " 31.72375488  8.3963623  22.70776367 19.59936523 33.95361328 15.63330078\n",
      " 30.9552002  12.25524902 32.4942627  30.31054688  3.81188965 35.6237793\n",
      " 26.42675781 17.77624512 20.43286133 17.61450195 15.24414062 23.83178711\n",
      " 17.51293945 20.18481445 18.08703613 33.02832031 36.29711914 24.20825195\n",
      " 46.76916504 28.06201172 15.02990723 22.34448242 18.46630859  8.87207031\n",
      " 15.37402344 18.59960938 27.12609863 19.3416748  21.03515625 21.40197754\n",
      " 21.73742676 26.01940918 33.29199219 18.86694336 20.97802734 31.89477539\n",
      " 42.55859375 34.47192383 22.9708252  27.74804688 27.72131348 20.4342041\n",
      " 17.48974609 17.56811523 12.35974121 37.10058594 47.81921387 10.08215332\n",
      " 43.28222656 32.83569336 24.57226562 17.47998047 26.70776367 25.4296875 ]\n"
     ]
    }
   ],
   "source": [
    "print(test_data_prediction)"
   ]
  },
  {
   "cell_type": "code",
   "execution_count": 62,
   "id": "f2dc3412",
   "metadata": {},
   "outputs": [
    {
     "name": "stdout",
     "output_type": "stream",
     "text": [
      "R squared error: 0.8962613133053395\n",
      "Mean Absolute Error: 2.369001081878064\n"
     ]
    }
   ],
   "source": [
    "score_1 = metrics.r2_score(Y_test, test_data_prediction)\n",
    "\n",
    "score_2 = metrics.mean_absolute_error(Y_test, test_data_prediction)\n",
    "\n",
    "print(f\"R squared error: {score_1}\")\n",
    "print(f\"Mean Absolute Error: {score_2}\")"
   ]
  },
  {
   "cell_type": "code",
   "execution_count": 63,
   "id": "533a229d",
   "metadata": {},
   "outputs": [
    {
     "data": {
      "image/png": "[encoded data removed]",
      "text/plain": [
       "<Figure size 432x288 with 1 Axes>"
      ]
     },
     "metadata": {
      "needs_background": "light"
     },
     "output_type": "display_data"
    }
   ],
   "source": [
    "plt.scatter(Y_test, test_data_prediction)\n",
    "plt.xlabel(\"Actual Prices\")\n",
    "plt.ylabel(\"Predicted Prices\")\n",
    "plt.title(\"Actual Price vs Predicted Price\")\n",
    "plt.show()"
   ]
  },
  {
   "cell_type": "markdown",
   "id": "398454f9",
   "metadata": {},
   "source": [
    "# Model Training"
   ]
  },
  {
   "cell_type": "markdown",
   "id": "9a62ea59",
   "metadata": {},
   "source": [
    "Model Training ---> Support Vector Regression"
   ]
  },
  {
   "cell_type": "code",
   "execution_count": 64,
   "id": "9eacb230",
   "metadata": {},
   "outputs": [],
   "source": [
    "model_SVR = SVR(kernel = 'rbf')"
   ]
  },
  {
   "cell_type": "code",
   "execution_count": 65,
   "id": "e6ffb065",
   "metadata": {},
   "outputs": [
    {
     "data": {
      "text/plain": [
       "SVR()"
      ]
     },
     "execution_count": 65,
     "metadata": {},
     "output_type": "execute_result"
    }
   ],
   "source": [
    "model_SVR.fit(X_train, Y_train)"
   ]
  },
  {
   "cell_type": "markdown",
   "id": "5a98f626",
   "metadata": {},
   "source": [
    "Evaluation\n",
    "1. R Squared Error\n",
    "2. Mean Absolute Error"
   ]
  },
  {
   "cell_type": "markdown",
   "id": "82d18e8f",
   "metadata": {},
   "source": [
    "Prediction on training data"
   ]
  },
  {
   "cell_type": "code",
   "execution_count": 66,
   "id": "00740f0e",
   "metadata": {},
   "outputs": [],
   "source": [
    "training_data_prediction = model_SVR.predict(X_train)"
   ]
  },
  {
   "cell_type": "code",
   "execution_count": 67,
   "id": "cc1c267f",
   "metadata": {},
   "outputs": [
    {
     "name": "stdout",
     "output_type": "stream",
     "text": [
      "[23.67756987 21.41900661 21.75014998 30.81366001 15.56361687 13.75836101\n",
      " 20.46901837 16.83747332 15.91307161 21.93218773 15.10610698 11.78043847\n",
      " 29.39394276 19.03583338 27.48465904 20.70000574 22.42314788 21.05894881\n",
      " 31.70319968 19.04870165 24.52567281 12.02473067 30.62222338 22.14530087\n",
      " 19.38375507 20.11020177 21.25066778 24.70010096 22.12543728 32.5466519\n",
      " 22.37702796 12.09661618 18.17242413 19.98468892 14.89110828 12.23167016\n",
      " 14.87175718 22.5735953  15.95666156 14.79966056 24.44574199 23.83211809\n",
      " 15.24823089 20.10572488 15.60895132 14.98733563 26.21495366 19.87669462\n",
      " 27.40727584 17.55476034 21.9578156  31.26340724 19.73049681 23.01391434\n",
      " 19.48337447 20.36936269 23.3996191  30.73900616 23.88064909 31.3368836\n",
      " 21.03032945 35.81712086 18.33953012 18.69164318 24.32855956 12.92207348\n",
      " 25.93068108 16.79901398 22.47167638 36.70349955 33.19097244 33.06558771\n",
      " 22.28551703 28.80165422 23.88939994 27.50117165 15.32086679 20.64265183\n",
      " 20.28996121 25.24719695 24.3405767  23.70855185 23.39616356 19.41163482\n",
      " 35.84738996 16.49882125 30.74837149 32.85805343 17.44920005 19.74871294\n",
      " 19.81687481 11.89982005 23.16898666 34.97737473 30.08500633 20.04640664\n",
      " 28.14888092 16.8906386  13.71963113 26.64229263 21.5269649  20.28190206\n",
      " 19.79930325 19.58929548 20.80454652 22.49979216 15.49781879 32.45513787\n",
      " 18.1858447  14.70921672 18.401126   19.07740412 18.34341995 19.70019121\n",
      " 21.69804044 13.48533335 16.01156246 19.29386281 16.27231134 29.05710618\n",
      " 15.60692687 34.62586519 33.45115982 18.95150716 15.17447369 14.61922169\n",
      " 12.10330326 16.29387353 17.81884001 11.56045529 22.59367168 12.75824872\n",
      " 19.49978531 35.15587852 23.83173153 20.32345366 29.30492729 23.69002827\n",
      " 28.83555294 24.11020556 15.30651033 16.93204195 32.13622072 21.54461787\n",
      " 16.54111626 11.944674   30.88097497 27.28270587 12.40011816 19.30039102\n",
      " 21.76353444 32.44525041 23.31496415 11.72634146 24.19985789 25.66989053\n",
      " 24.97224094 14.83490924 27.93216184 30.08295745 18.38155663 20.97698859\n",
      " 26.50001353 30.30042997 27.83825398 25.15081222 12.69598562 22.90694588\n",
      " 21.13496643 29.19912687 24.64104329 19.31574368 20.15544297 10.70003659\n",
      " 21.87577393 17.19994137 21.29832247 12.92725179 30.00376572 34.03694776\n",
      " 15.75692225 20.82437668 24.60729359 14.24019659 21.56803761 22.93829366\n",
      " 25.93662568 20.81914439 25.09967311 18.4520307  29.07410391 17.02831133\n",
      " 15.29822393 23.27026502 13.94044518 18.82636995 24.32569109 21.57583671\n",
      " 24.15475695 21.89308344 18.60001357 26.80006492 15.51021504 21.66501459\n",
      " 17.19697063 32.84287222 27.95687524 21.13092717 23.03884904 18.40016784\n",
      " 18.21732828 18.58880069 22.96124186 19.15254303 15.733946   13.25117385\n",
      " 20.52597413 23.27839622 13.9094765  19.01115849 21.68382064 20.36644135\n",
      " 19.86329726 12.89788855 22.5952008  20.14686545 16.15373904 25.72957855\n",
      " 28.40024544 22.70112131 16.85880587 19.0122845  23.2571496  18.5406272\n",
      " 22.42611989 18.58532361 28.84648246 33.70254351 16.7746567  14.58040533\n",
      " 11.88777511 19.00403804 16.60004932 12.20752363 16.65926162 18.05234472\n",
      " 29.16021485 27.19087665 17.50862272 19.79204785 26.30824354 12.04942627\n",
      " 24.30989563 24.5381196  21.10031362 24.50131603 20.22195115 13.29987997\n",
      " 17.30182708 14.3371733  13.66426474 24.44068808 16.05645734 21.93600418\n",
      " 25.56237495 17.5123074  25.3997201  13.93486935 20.95000626 19.00709214\n",
      " 24.60974499 27.17445242 25.38332431 16.38427655 22.95982618 28.91022177\n",
      " 16.32752832 17.98927912 24.65745442 19.9908952  25.72077442 30.98608969\n",
      " 16.12541266 27.4146872  16.20526555 13.91840282 12.49469259 24.19972804\n",
      " 16.40699441 30.10812027 20.22260366 32.02897566 19.47385542 23.38211484\n",
      " 14.79686403 17.3835088  17.32683014 24.01600794 21.51937978 35.55003635\n",
      " 18.12314695 28.21083106 25.96303961 19.12290557 27.57321142 13.92219279\n",
      " 34.64534901 20.0175275  17.74729963 25.27888182 20.19676859 24.51524797\n",
      " 11.2619442  24.0132711  18.2999052  21.32621474 23.7783149  20.96800878\n",
      " 18.65515952 17.27563787 15.70094314 25.51872934 15.53818652 22.78327823\n",
      " 20.94387608 14.64511345 16.46653785 24.48307415 23.90702231 22.3379034\n",
      " 22.99992711 26.29959379 17.22792421 17.39015678 22.49692284 23.48010765\n",
      " 12.61860126 22.39071815 14.78391927 13.50039195 19.91500061 12.286384\n",
      " 35.89337883 25.30018755 13.28752049 16.84064109 14.1105074  26.78347762\n",
      " 17.33220888 17.37056877 15.0061548  20.7741146  19.51711252 20.34517298\n",
      " 26.87789801 26.50571916 27.90569347 14.35626765 17.53529145 20.24683967\n",
      " 19.97198803 23.19841173 13.73498939 27.19567791 30.13661911 29.02465003\n",
      " 24.85278263 17.9078627  21.48840187 19.96357403 22.03129237 15.56954196\n",
      " 22.26639559 18.69489578 21.69312928 20.72747016 14.8050577  31.47688283\n",
      " 18.69992648 33.53459604 21.35499453 23.6002181  21.71952673 18.89995694\n",
      " 14.45117145 21.59985949 24.17773827 21.0647678  17.86020403 24.6740769\n",
      " 20.39313832 27.0583832  14.20021705 27.48151239 30.89979181 20.75145187\n",
      " 22.91420883 14.35435372 29.10050358 16.93178182 22.90019743 20.10945017\n",
      " 19.59176157 23.3907266 ]\n"
     ]
    }
   ],
   "source": [
    "print(training_data_prediction)"
   ]
  },
  {
   "cell_type": "code",
   "execution_count": 68,
   "id": "c1adb98b",
   "metadata": {},
   "outputs": [
    {
     "name": "stdout",
     "output_type": "stream",
     "text": [
      "R squared error: 0.6457713868658359\n",
      "Mean Absolute Error: 3.017128102774205\n"
     ]
    }
   ],
   "source": [
    "score_1 = metrics.r2_score(Y_train, training_data_prediction)\n",
    "\n",
    "score_2 = metrics.mean_absolute_error(Y_train, training_data_prediction)\n",
    "\n",
    "print(f\"R squared error: {score_1}\")\n",
    "print(f\"Mean Absolute Error: {score_2}\")"
   ]
  },
  {
   "cell_type": "markdown",
   "id": "ed63a247",
   "metadata": {},
   "source": [
    "Visualizing the actual Prices and predicted prices"
   ]
  },
  {
   "cell_type": "code",
   "execution_count": 69,
   "id": "ceff36e5",
   "metadata": {},
   "outputs": [
    {
     "data": {
      "image/png": "[encoded data removed]",
      "text/plain": [
       "<Figure size 432x288 with 1 Axes>"
      ]
     },
     "metadata": {
      "needs_background": "light"
     },
     "output_type": "display_data"
    }
   ],
   "source": [
    "plt.scatter(Y_train, training_data_prediction)\n",
    "plt.xlabel(\"Actual Prices\")\n",
    "plt.ylabel(\"Predicted Prices\")\n",
    "plt.title(\"Actual Price vs Predicted Price\")\n",
    "plt.show()"
   ]
  },
  {
   "cell_type": "markdown",
   "id": "2aea5ebc",
   "metadata": {},
   "source": [
    "Prediction on test data"
   ]
  },
  {
   "cell_type": "code",
   "execution_count": 70,
   "id": "a5d911b3",
   "metadata": {},
   "outputs": [],
   "source": [
    "test_data_prediction = model_SVR.predict(X_test)"
   ]
  },
  {
   "cell_type": "code",
   "execution_count": 71,
   "id": "720bf243",
   "metadata": {},
   "outputs": [
    {
     "name": "stdout",
     "output_type": "stream",
     "text": [
      "[19.94747214 19.96417246 29.56198983 25.96431054 12.97345366 14.82110214\n",
      " 27.88276353 25.67376534 18.75112175 20.57840039 28.56278923 25.97494628\n",
      " 20.82696758 19.0627529  13.06181039 23.23439694 21.75775925 12.7185933\n",
      " 12.33850555 15.46240981 22.66227942 18.85899281 31.35866968 18.05118214\n",
      " 15.3247938  18.81885685 30.49003281 29.82569011 27.80692912 22.67404115\n",
      " 15.68020166 21.40697419 29.47553992 26.04245715 13.2644401  18.33194108\n",
      " 12.44271202 21.62330521 23.47841607 22.01841957 27.56420347 15.08779445\n",
      " 30.7428012  12.86520078 21.35138346 16.50141824 32.04504212 16.05870068\n",
      " 29.4399935  15.35202364 29.71021587 28.80847406 14.24065    32.02508156\n",
      " 16.47919027 19.54160599 19.3040749  17.79788663 16.549324   22.69217508\n",
      " 19.04490904 20.62845673 17.93746833 29.41448098 31.61582376 23.10611921\n",
      " 32.09473313 26.99861522 13.58975998 25.89724227 15.44313102 12.13822273\n",
      " 20.50058549 18.20726835 26.22979423 23.33999442 21.60035278 21.43417924\n",
      " 22.34199073 24.08135369 30.10959463 18.49464663 19.21078761 27.33252766\n",
      " 34.7622883  31.40483083 17.30891672 25.6092452  28.32523636 19.21970688\n",
      " 20.32454297 18.8413723  13.67419533 31.37650593 34.93028712 12.13201477\n",
      " 33.67731573 28.01005292 21.00914563 16.11186969 28.59695182 24.00680853]\n"
     ]
    }
   ],
   "source": [
    "print(test_data_prediction)"
   ]
  },
  {
   "cell_type": "code",
   "execution_count": 72,
   "id": "f2dc3412",
   "metadata": {},
   "outputs": [
    {
     "name": "stdout",
     "output_type": "stream",
     "text": [
      "R squared error: 0.7577721268821174\n",
      "Mean Absolute Error: 2.987420979831198\n"
     ]
    }
   ],
   "source": [
    "score_1 = metrics.r2_score(Y_test, test_data_prediction)\n",
    "\n",
    "score_2 = metrics.mean_absolute_error(Y_test, test_data_prediction)\n",
    "\n",
    "print(f\"R squared error: {score_1}\")\n",
    "print(f\"Mean Absolute Error: {score_2}\")"
   ]
  },
  {
   "cell_type": "code",
   "execution_count": 73,
   "id": "a4e1c578",
   "metadata": {},
   "outputs": [
    {
     "data": {
      "image/png": "[encoded data removed]",
      "text/plain": [
       "<Figure size 432x288 with 1 Axes>"
      ]
     },
     "metadata": {
      "needs_background": "light"
     },
     "output_type": "display_data"
    }
   ],
   "source": [
    "plt.scatter(Y_test, test_data_prediction)\n",
    "plt.xlabel(\"Actual Prices\")\n",
    "plt.ylabel(\"Predicted Prices\")\n",
    "plt.title(\"Actual Price vs Predicted Price\")\n",
    "plt.show()"
   ]
  },
  {
   "cell_type": "markdown",
   "id": "398454f9",
   "metadata": {},
   "source": [
    "# Model Training"
   ]
  },
  {
   "cell_type": "markdown",
   "id": "9a62ea59",
   "metadata": {},
   "source": [
    "Model Training ---> Decision Tree Regression"
   ]
  },
  {
   "cell_type": "code",
   "execution_count": 74,
   "id": "9eacb230",
   "metadata": {},
   "outputs": [],
   "source": [
    "model_DecisionTreeRegression = DecisionTreeRegressor(random_state = 0)"
   ]
  },
  {
   "cell_type": "code",
   "execution_count": 75,
   "id": "e6ffb065",
   "metadata": {},
   "outputs": [
    {
     "data": {
      "text/plain": [
       "DecisionTreeRegressor(random_state=0)"
      ]
     },
     "execution_count": 75,
     "metadata": {},
     "output_type": "execute_result"
    }
   ],
   "source": [
    "model_DecisionTreeRegression.fit(X_train, Y_train)"
   ]
  },
  {
   "cell_type": "markdown",
   "id": "5a98f626",
   "metadata": {},
   "source": [
    "Evaluation\n",
    "1. R Squared Error\n",
    "2. Mean Absolute Error"
   ]
  },
  {
   "cell_type": "markdown",
   "id": "82d18e8f",
   "metadata": {},
   "source": [
    "Prediction on training data"
   ]
  },
  {
   "cell_type": "code",
   "execution_count": 76,
   "id": "00740f0e",
   "metadata": {},
   "outputs": [],
   "source": [
    "training_data_prediction = model_DecisionTreeRegression.predict(X_train)"
   ]
  },
  {
   "cell_type": "code",
   "execution_count": 77,
   "id": "cc1c267f",
   "metadata": {},
   "outputs": [
    {
     "name": "stdout",
     "output_type": "stream",
     "text": [
      "[23.1 21.  20.1 34.7 13.9 13.5 22.  15.2 10.9 22.7 13.8  5.6 29.8 50.\n",
      " 34.9 20.6 23.4 19.2 32.7 19.6 27.   8.4 46.  21.7 27.1 19.4 19.3 24.8\n",
      " 22.6 31.7 18.5  8.7 17.4 23.7 13.3 10.5 12.7 25.  19.7 14.9 24.2 25.\n",
      " 14.9 17.  15.6 12.7 24.5 15.  50.  17.5 21.2 32.  15.6 22.9 19.3 18.7\n",
      " 23.3 37.2 30.1 33.1 21.  50.  13.4  5.  16.5  8.4 28.7 19.5 20.6 45.4\n",
      " 39.8 33.4 19.8 33.4 25.3 50.  12.5 17.4 18.6 22.6 50.  23.8 23.3 23.1\n",
      " 41.7 16.1 31.6 36.1  7.  20.4 20.  12.  25.  50.  37.9 23.1 41.3 17.6\n",
      " 16.3 30.1 22.9 19.8 17.1 18.9 18.9 22.6 23.2 33.2 15.  11.7 18.8 20.8\n",
      " 18.  19.6 50.  17.2 16.4 17.5 14.6 33.1 14.5 43.8 34.9 20.4 14.6  8.1\n",
      " 11.8 11.8 18.7  6.3 24.  13.1 19.6 50.  22.3 18.9 31.2 20.7 32.2 36.2\n",
      " 14.2 15.7 50.  20.4 16.2 13.4 50.  31.6 12.3 19.2 29.8 31.5 22.8 10.2\n",
      " 24.1 23.7 22.  13.8 28.4 33.2 13.1 19.  26.6 37.  30.8 22.8 10.2 22.2\n",
      " 24.5 36.2 23.1 20.1 19.5 10.8 22.7 19.5 20.1  9.6 42.8 48.8 13.1 20.3\n",
      " 24.8 14.1 21.7 22.2 33.  21.1 25.  19.1 32.4 13.6 15.1 23.1 27.5 19.4\n",
      " 26.5 27.5 28.7 21.2 18.7 26.7 14.  21.7 18.4 43.1 29.1 20.3 23.7 18.3\n",
      " 17.2 18.3 24.4 26.4 19.1 13.3 22.2 22.2  8.5 18.9 21.8 19.3 18.2  7.5\n",
      " 22.4 20.  14.4 22.5 28.5 21.6 13.8 20.5 21.9 23.1 50.  16.2 30.3 50.\n",
      " 17.8 19.1 10.4 20.4 16.5 17.2 16.7 19.5 30.5 29.  19.6 23.2 24.4  9.5\n",
      " 23.9 50.  21.2 22.6 20.  13.4 20.  17.1 12.7 23.  15.2 20.6 26.2 18.1\n",
      " 24.1 14.1 21.7 20.1 25.  27.9 22.9 18.5 22.2 24.  14.8 19.9 24.4 17.8\n",
      " 24.6 32.  17.8 23.3 16.1 13.  11.  24.3 15.6 35.2 19.6 42.3  8.8 24.4\n",
      " 14.1 15.4 17.3 22.1 23.1 44.8 17.8 31.5 22.8 16.8 23.9 12.1 38.7 21.4\n",
      " 16.  23.9 11.9 25.   7.2 24.7 18.2 22.5 23.  24.3 17.1 17.8 13.5 27.1\n",
      " 13.3 21.9 20.  15.4 16.6 22.3 24.7 21.4 22.9 29.6 21.9 19.9 29.6 23.4\n",
      " 13.8 24.5 11.9  7.2 20.5  9.7 48.3 25.2 11.7 17.4 14.5 28.6 19.4 22.5\n",
      "  7.  20.6 23.  19.7 23.7 25.  28.  13.4 14.5 20.3 19.3 24.1 14.9 26.4\n",
      " 33.3 23.6 24.6 18.5 20.9 10.4 23.3 13.1 24.7 22.6 20.5 16.8 10.2 33.8\n",
      " 18.6 50.  23.8 23.9 21.2 18.8  8.5 21.5 23.2 21.  16.6 28.1 21.2 28.4\n",
      " 14.3 50.  31.  25.  21.4 19.  29.  15.2 22.8 21.8 19.9 23.8]\n"
     ]
    }
   ],
   "source": [
    "print(training_data_prediction)"
   ]
  },
  {
   "cell_type": "code",
   "execution_count": 78,
   "id": "c1adb98b",
   "metadata": {},
   "outputs": [
    {
     "name": "stdout",
     "output_type": "stream",
     "text": [
      "R squared error: 1.0\n",
      "Mean Absolute Error: 0.0\n"
     ]
    }
   ],
   "source": [
    "score_1 = metrics.r2_score(Y_train, training_data_prediction)\n",
    "\n",
    "score_2 = metrics.mean_absolute_error(Y_train, training_data_prediction)\n",
    "\n",
    "print(f\"R squared error: {score_1}\")\n",
    "print(f\"Mean Absolute Error: {score_2}\")"
   ]
  },
  {
   "cell_type": "markdown",
   "id": "ed63a247",
   "metadata": {},
   "source": [
    "Visualizing the actual Prices and predicted prices"
   ]
  },
  {
   "cell_type": "code",
   "execution_count": 79,
   "id": "ceff36e5",
   "metadata": {},
   "outputs": [
    {
     "data": {
      "image/png": "[encoded data removed]",
      "text/plain": [
       "<Figure size 432x288 with 1 Axes>"
      ]
     },
     "metadata": {
      "needs_background": "light"
     },
     "output_type": "display_data"
    }
   ],
   "source": [
    "plt.scatter(Y_train, training_data_prediction)\n",
    "plt.xlabel(\"Actual Prices\")\n",
    "plt.ylabel(\"Predicted Prices\")\n",
    "plt.title(\"Actual Price vs Predicted Price\")\n",
    "plt.show()"
   ]
  },
  {
   "cell_type": "markdown",
   "id": "2aea5ebc",
   "metadata": {},
   "source": [
    "Prediction on test data"
   ]
  },
  {
   "cell_type": "code",
   "execution_count": 80,
   "id": "a5d911b3",
   "metadata": {},
   "outputs": [],
   "source": [
    "test_data_prediction = model_DecisionTreeRegression.predict(X_test)"
   ]
  },
  {
   "cell_type": "code",
   "execution_count": 81,
   "id": "1e95964b",
   "metadata": {},
   "outputs": [
    {
     "name": "stdout",
     "output_type": "stream",
     "text": [
      "[19.5 20.8 28.5 36.2  7.2 16.2 31.  28.5 11.7 19.6 22.8 31.5 18.6 14.5\n",
      " 10.2 24.4 19.3  8.5  8.7 17.8 22.2 20.1 33.8 16.8 14.2 17.4 42.3 33.3\n",
      " 32.7 24.3 10.4 23.4 33.1 22.5 27.5 13.1 12.3 23.2 19.7 20.6 28.4 13.1\n",
      " 36.1  7.2 19.1 14.2 34.9 19.4 37.9 17.2 30.5 22.5  6.3 33.  11.7 19.6\n",
      " 19.5 23.1 18.4 19.4 19.5 23.1 17.5 31.6 32.  23.7 50.  31.   8.5 22.\n",
      " 23.7  5.6 11.9 19.1 30.1 23.9 20.6 24.  18.7 24.4 33.  16.6 19.1 31.2\n",
      " 44.8 33.8 10.4 19.8 30.5 20.6 20.3 19.2 13.1 32.7 31.5  8.8 42.3 34.9\n",
      " 18.8 16.2 29.8 23.1]\n"
     ]
    }
   ],
   "source": [
    "print(test_data_prediction)"
   ]
  },
  {
   "cell_type": "code",
   "execution_count": 82,
   "id": "f2dc3412",
   "metadata": {},
   "outputs": [
    {
     "name": "stdout",
     "output_type": "stream",
     "text": [
      "R squared error: 0.7098117242885484\n",
      "Mean Absolute Error: 3.5411764705882347\n"
     ]
    }
   ],
   "source": [
    "score_1 = metrics.r2_score(Y_test, test_data_prediction)\n",
    "\n",
    "score_2 = metrics.mean_absolute_error(Y_test, test_data_prediction)\n",
    "\n",
    "print(f\"R squared error: {score_1}\")\n",
    "print(f\"Mean Absolute Error: {score_2}\")"
   ]
  },
  {
   "cell_type": "code",
   "execution_count": 83,
   "id": "6a2adac7",
   "metadata": {},
   "outputs": [
    {
     "data": {
      "image/png": "[encoded data removed]",
      "text/plain": [
       "<Figure size 432x288 with 1 Axes>"
      ]
     },
     "metadata": {
      "needs_background": "light"
     },
     "output_type": "display_data"
    }
   ],
   "source": [
    "plt.scatter(Y_test, test_data_prediction)\n",
    "plt.xlabel(\"Actual Prices\")\n",
    "plt.ylabel(\"Predicted Prices\")\n",
    "plt.title(\"Actual Price vs Predicted Price\")\n",
    "plt.show()"
   ]
  },
  {
   "cell_type": "markdown",
   "id": "398454f9",
   "metadata": {},
   "source": [
    "# Model Training"
   ]
  },
  {
   "cell_type": "markdown",
   "id": "9a62ea59",
   "metadata": {},
   "source": [
    "Model Training ---> Random Forest Regression"
   ]
  },
  {
   "cell_type": "code",
   "execution_count": 84,
   "id": "9eacb230",
   "metadata": {},
   "outputs": [],
   "source": [
    "model_RandomForestRegression = RandomForestRegressor(n_estimators = 10, random_state = 0)"
   ]
  },
  {
   "cell_type": "code",
   "execution_count": 85,
   "id": "e6ffb065",
   "metadata": {},
   "outputs": [
    {
     "data": {
      "text/plain": [
       "RandomForestRegressor(n_estimators=10, random_state=0)"
      ]
     },
     "execution_count": 85,
     "metadata": {},
     "output_type": "execute_result"
    }
   ],
   "source": [
    "model_RandomForestRegression.fit(X_train, Y_train)"
   ]
  },
  {
   "cell_type": "markdown",
   "id": "5a98f626",
   "metadata": {},
   "source": [
    "Evaluation\n",
    "1. R Squared Error\n",
    "2. Mean Absolute Error"
   ]
  },
  {
   "cell_type": "markdown",
   "id": "82d18e8f",
   "metadata": {},
   "source": [
    "Prediction on training data"
   ]
  },
  {
   "cell_type": "code",
   "execution_count": 86,
   "id": "00740f0e",
   "metadata": {},
   "outputs": [],
   "source": [
    "training_data_prediction = model_RandomForestRegression.predict(X_train)"
   ]
  },
  {
   "cell_type": "code",
   "execution_count": 87,
   "id": "cc1c267f",
   "metadata": {},
   "outputs": [
    {
     "name": "stdout",
     "output_type": "stream",
     "text": [
      "[23.61 20.68 20.73 34.48 15.17 13.34 21.63 15.83 12.56 22.16 14.1   7.03\n",
      " 28.93 46.85 33.89 20.34 22.32 19.52 32.7  19.98 25.55  8.56 44.91 22.\n",
      " 22.46 19.6  19.43 25.95 22.19 31.34 19.64  9.14 17.62 22.54 13.16 10.32\n",
      " 13.16 24.77 19.16 15.26 24.07 24.67 15.73 17.78 15.88 14.64 26.78 17.39\n",
      " 48.88 18.66 21.41 35.2  16.05 23.37 19.4  19.48 22.13 36.75 30.26 32.71\n",
      " 21.77 44.   13.68  6.07 18.92  8.92 27.65 17.23 21.86 45.4  40.46 34.23\n",
      " 20.52 36.71 24.37 48.48 12.96 19.02 19.47 22.71 43.92 23.95 24.21 20.5\n",
      " 43.46 18.19 31.3  35.56  7.66 20.21 19.12 12.13 24.86 46.15 38.7  20.96\n",
      " 32.29 17.76 14.93 28.53 21.61 19.91 17.54 19.73 19.2  21.45 18.78 33.23\n",
      " 18.25 13.54 19.34 21.09 17.92 19.77 47.75 13.59 16.25 17.58 13.85 33.04\n",
      " 14.61 44.29 34.54 20.47 15.55  8.78 11.35 12.62 18.87  8.39 22.52 11.64\n",
      " 19.81 46.05 22.6  19.6  31.26 20.6  32.36 30.14 15.72 15.22 48.11 20.67\n",
      " 16.23 12.27 50.   31.67 11.72 19.86 25.3  32.06 22.08  9.12 24.01 23.97\n",
      " 22.82 11.56 27.53 33.4  14.14 19.6  26.46 33.59 30.8  22.92 10.37 23.88\n",
      " 21.43 35.64 23.74 20.16 19.45 10.79 22.2  19.28 19.8  11.08 42.64 43.36\n",
      " 14.74 20.26 24.43 16.9  21.54 21.99 33.17 20.91 24.42 19.27 34.04 14.74\n",
      " 15.61 22.28 25.35 17.39 25.28 24.2  27.78 21.24 19.18 27.49 14.86 20.84\n",
      " 18.05 39.38 26.9  20.75 25.09 19.04 17.5  18.67 23.28 24.94 17.28 13.36\n",
      " 21.78 22.06 11.77 18.96 21.41 19.16 18.6   8.29 23.4  19.71 16.73 23.47\n",
      " 32.49 22.41 14.29 19.77 24.91 21.98 46.85 17.3  30.49 40.96 16.5  18.13\n",
      " 10.4  20.63 15.37 17.03 15.44 18.78 29.53 27.97 19.06 21.83 24.79 10.68\n",
      " 23.95 44.44 21.24 22.55 20.11 13.66 19.1  15.55 13.83 22.5  15.5  20.95\n",
      " 26.56 18.23 24.61 14.65 20.93 20.1  25.76 28.54 22.68 19.02 22.63 27.56\n",
      " 14.66 19.33 24.33 16.59 24.27 31.81 16.62 25.65 16.27 14.17 12.09 23.74\n",
      " 14.61 37.28 19.56 43.57  9.07 22.33 14.44 15.53 15.9  21.9  21.94 44.01\n",
      " 21.46 30.86 24.24 18.01 26.14 11.18 39.89 21.14 16.99 24.56 15.45 24.81\n",
      "  6.89 24.72 19.37 22.56 23.07 23.   17.86 17.77 13.54 27.17 14.78 21.26\n",
      " 20.77 14.94 17.25 22.57 24.65 21.3  22.97 29.2  20.51 19.71 28.64 23.46\n",
      " 12.41 24.24 11.92  7.85 20.57  9.43 46.11 25.19 11.77 16.6  14.27 28.32\n",
      " 19.19 22.5  10.31 20.78 22.36 19.96 24.15 24.65 26.96 14.18 15.62 20.72\n",
      " 19.88 24.76 14.47 25.58 32.86 27.33 24.48 18.49 20.55 12.75 23.25 13.65\n",
      " 21.37 22.3  21.26 17.69 11.9  31.85 19.23 48.51 23.11 23.33 21.04 18.97\n",
      "  8.34 21.29 23.7  20.51 18.21 26.74 20.69 26.86 15.96 47.71 31.24 21.89\n",
      " 22.22 17.28 29.77 15.64 22.91 20.66 19.66 23.27]\n"
     ]
    }
   ],
   "source": [
    "print(training_data_prediction)"
   ]
  },
  {
   "cell_type": "code",
   "execution_count": 88,
   "id": "c1adb98b",
   "metadata": {},
   "outputs": [
    {
     "name": "stdout",
     "output_type": "stream",
     "text": [
      "R squared error: 0.9713913790570533\n",
      "Mean Absolute Error: 0.9827722772277229\n"
     ]
    }
   ],
   "source": [
    "score_1 = metrics.r2_score(Y_train, training_data_prediction)\n",
    "\n",
    "score_2 = metrics.mean_absolute_error(Y_train, training_data_prediction)\n",
    "\n",
    "print(f\"R squared error: {score_1}\")\n",
    "print(f\"Mean Absolute Error: {score_2}\")"
   ]
  },
  {
   "cell_type": "markdown",
   "id": "ed63a247",
   "metadata": {},
   "source": [
    "Visualizing the actual Prices and predicted prices"
   ]
  },
  {
   "cell_type": "code",
   "execution_count": 89,
   "id": "ceff36e5",
   "metadata": {},
   "outputs": [
    {
     "data": {
      "image/png": "[encoded data removed]",
      "text/plain": [
       "<Figure size 432x288 with 1 Axes>"
      ]
     },
     "metadata": {
      "needs_background": "light"
     },
     "output_type": "display_data"
    }
   ],
   "source": [
    "plt.scatter(Y_train, training_data_prediction)\n",
    "plt.xlabel(\"Actual Prices\")\n",
    "plt.ylabel(\"Predicted Prices\")\n",
    "plt.title(\"Actual Price vs Predicted Price\")\n",
    "plt.show()"
   ]
  },
  {
   "cell_type": "markdown",
   "id": "2aea5ebc",
   "metadata": {},
   "source": [
    "Prediction on test data"
   ]
  },
  {
   "cell_type": "code",
   "execution_count": 90,
   "id": "a5d911b3",
   "metadata": {},
   "outputs": [],
   "source": [
    "test_data_prediction = model_RandomForestRegression.predict(X_test)"
   ]
  },
  {
   "cell_type": "code",
   "execution_count": 91,
   "id": "a4fcfc10",
   "metadata": {},
   "outputs": [
    {
     "name": "stdout",
     "output_type": "stream",
     "text": [
      "[20.26 22.29 34.03 30.09  7.29 14.25 27.72 29.02 28.71 19.55 26.34 25.68\n",
      " 20.66 20.95 10.88 23.12 16.77 11.86  9.36 14.79 24.   18.89 30.85 18.02\n",
      " 15.13 19.06 43.65 32.55 34.09 20.42 17.49 20.84 30.7  24.75 12.8  18.52\n",
      " 10.88 19.73 21.34 21.6  28.11 13.98 31.5   6.55 18.76 14.48 36.06 17.29\n",
      " 28.91 12.77 29.14 26.08  6.47 34.01 32.42 19.47 19.48 19.36 16.2  22.56\n",
      " 20.69 21.22 19.14 30.46 32.31 24.21 48.3  28.41 11.61 23.33 16.78  6.96\n",
      " 19.64 16.23 27.65 24.49 22.06 20.57 20.99 22.88 35.17 17.7  17.71 30.\n",
      " 46.74 31.04 17.44 21.72 30.73 20.01 20.9  20.01  9.84 36.8  39.42  9.87\n",
      " 41.59 33.26 21.18 16.22 29.83 23.99]\n"
     ]
    }
   ],
   "source": [
    "print(test_data_prediction)"
   ]
  },
  {
   "cell_type": "code",
   "execution_count": 92,
   "id": "f2dc3412",
   "metadata": {},
   "outputs": [
    {
     "name": "stdout",
     "output_type": "stream",
     "text": [
      "R squared error: 0.8738853350695253\n",
      "Mean Absolute Error: 2.3783333333333334\n"
     ]
    }
   ],
   "source": [
    "score_1 = metrics.r2_score(Y_test, test_data_prediction)\n",
    "\n",
    "score_2 = metrics.mean_absolute_error(Y_test, test_data_prediction)\n",
    "\n",
    "print(f\"R squared error: {score_1}\")\n",
    "print(f\"Mean Absolute Error: {score_2}\")"
   ]
  },
  {
   "cell_type": "code",
   "execution_count": 93,
   "id": "727e60ec",
   "metadata": {},
   "outputs": [
    {
     "data": {
      "image/png": "[encoded data removed]",
      "text/plain": [
       "<Figure size 432x288 with 1 Axes>"
      ]
     },
     "metadata": {
      "needs_background": "light"
     },
     "output_type": "display_data"
    }
   ],
   "source": [
    "plt.scatter(Y_test, test_data_prediction)\n",
    "plt.xlabel(\"Actual Prices\")\n",
    "plt.ylabel(\"Predicted Prices\")\n",
    "plt.title(\"Actual Price vs Predicted Price\")\n",
    "plt.show()"
   ]
  }
 ],
 "metadata": {
  "kernelspec": {
   "display_name": "Python 3 (ipykernel)",
   "language": "python",
   "name": "python3"
  },
  "language_info": {
   "codemirror_mode": {
    "name": "ipython",
    "version": 3
   },
   "file_extension": ".py",
   "mimetype": "text/x-python",
   "name": "python",
   "nbconvert_exporter": "python",
   "pygments_lexer": "ipython3",
   "version": "3.9.7"
  }
 },
 "nbformat": 4,
 "nbformat_minor": 5
}
